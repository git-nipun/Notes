{
 "cells": [
  {
   "cell_type": "markdown",
   "id": "63b366f6",
   "metadata": {},
   "source": [
    "# PYTHON BASICS"
   ]
  },
  {
   "cell_type": "code",
   "execution_count": 1,
   "id": "a6dc9174",
   "metadata": {},
   "outputs": [
    {
     "name": "stdout",
     "output_type": "stream",
     "text": [
      "Hello\n"
     ]
    }
   ],
   "source": [
    "print('Hello')"
   ]
  },
  {
   "cell_type": "markdown",
   "id": "23967d4f",
   "metadata": {},
   "source": [
    "### Variables"
   ]
  },
  {
   "cell_type": "code",
   "execution_count": 2,
   "id": "ec6d0c5d",
   "metadata": {},
   "outputs": [
    {
     "name": "stdout",
     "output_type": "stream",
     "text": [
      "20\n",
      "20\n"
     ]
    }
   ],
   "source": [
    "a = 10\n",
    "b = 10\n",
    "sum = a + b\n",
    "print(a+b)\n",
    "print(sum)"
   ]
  },
  {
   "cell_type": "markdown",
   "id": "9aa015c9",
   "metadata": {},
   "source": [
    "### Assigning different type of data to a variable"
   ]
  },
  {
   "cell_type": "code",
   "execution_count": 3,
   "id": "fcf05b53",
   "metadata": {},
   "outputs": [
    {
     "data": {
      "text/plain": [
       "str"
      ]
     },
     "execution_count": 3,
     "metadata": {},
     "output_type": "execute_result"
    }
   ],
   "source": [
    "a = 'fefefefe'\n",
    "type(a)"
   ]
  },
  {
   "cell_type": "code",
   "execution_count": 4,
   "id": "658b5b9f",
   "metadata": {},
   "outputs": [
    {
     "name": "stdout",
     "output_type": "stream",
     "text": [
      "<class 'int'>\n",
      "<class 'float'>\n",
      "<class 'complex'>\n"
     ]
    }
   ],
   "source": [
    "a1 = 3\n",
    "a2 = 3.4\n",
    "a3 = 2 + 2j\n",
    "print(type(a1))\n",
    "print(type(a2))\n",
    "print(type(a3))"
   ]
  },
  {
   "cell_type": "code",
   "execution_count": 5,
   "id": "cc82dd72",
   "metadata": {},
   "outputs": [
    {
     "name": "stdout",
     "output_type": "stream",
     "text": [
      "2642721073744\n",
      "2642721073776\n"
     ]
    }
   ],
   "source": [
    "a = 10\n",
    "print(id(a))\n",
    "a = a + 1\n",
    "print(id(a))    ## why ?"
   ]
  },
  {
   "cell_type": "code",
   "execution_count": 6,
   "id": "9c9362a5",
   "metadata": {},
   "outputs": [
    {
     "name": "stdout",
     "output_type": "stream",
     "text": [
      "2642794646512\n",
      "2642794647280\n"
     ]
    }
   ],
   "source": [
    "a = 1000\n",
    "b = 1000\n",
    "print(id(a))   ### why ?\n",
    "print(id(b))"
   ]
  },
  {
   "cell_type": "markdown",
   "id": "69630161",
   "metadata": {},
   "source": [
    "### Taking Input"
   ]
  },
  {
   "cell_type": "markdown",
   "id": "60cb694e",
   "metadata": {},
   "source": [
    "#### Assigning different type of data to a variable"
   ]
  },
  {
   "cell_type": "code",
   "execution_count": 7,
   "id": "c07b1f79",
   "metadata": {},
   "outputs": [
    {
     "name": "stdout",
     "output_type": "stream",
     "text": [
      "2\n",
      "2\n",
      "2\n",
      "<class 'int'>\n",
      "<class 'float'>\n",
      "<class 'str'>\n"
     ]
    }
   ],
   "source": [
    "int1 = int(input())\n",
    "str1 = float(input())\n",
    "flt = input()\n",
    "print(type(int1))\n",
    "print(type(str1))\n",
    "print(type(flt))"
   ]
  },
  {
   "cell_type": "code",
   "execution_count": 8,
   "id": "c0d1f480",
   "metadata": {},
   "outputs": [
    {
     "name": "stdout",
     "output_type": "stream",
     "text": [
      "25\n"
     ]
    }
   ],
   "source": [
    "z = int(input())"
   ]
  },
  {
   "cell_type": "code",
   "execution_count": 9,
   "id": "33f31cae",
   "metadata": {},
   "outputs": [
    {
     "name": "stdout",
     "output_type": "stream",
     "text": [
      "2\n",
      "2\n",
      "<class 'int'>\n",
      "<class 'int'>\n",
      "4\n"
     ]
    }
   ],
   "source": [
    "a = int(input())\n",
    "b = int(input())\n",
    "print(type(a))\n",
    "print(type(b))\n",
    "sum = a + b\n",
    "print(sum)"
   ]
  },
  {
   "cell_type": "markdown",
   "id": "a5fa7ae0",
   "metadata": {},
   "source": [
    "## Conditional and Loops"
   ]
  },
  {
   "cell_type": "code",
   "execution_count": 10,
   "id": "ade69509",
   "metadata": {},
   "outputs": [
    {
     "name": "stdout",
     "output_type": "stream",
     "text": [
      "<class 'bool'>\n"
     ]
    }
   ],
   "source": [
    "a = True\n",
    "print(type(a))"
   ]
  },
  {
   "cell_type": "markdown",
   "id": "e75a50e8",
   "metadata": {},
   "source": [
    "#### Relational operator"
   ]
  },
  {
   "cell_type": "code",
   "execution_count": 11,
   "id": "298b7b4a",
   "metadata": {},
   "outputs": [
    {
     "name": "stdout",
     "output_type": "stream",
     "text": [
      "False\n",
      "True\n",
      "False\n",
      "True\n",
      "False\n",
      "True\n"
     ]
    }
   ],
   "source": [
    "a = 10\n",
    "b = 20\n",
    "print(a>b)\n",
    "print(a<b)\n",
    "print(a>=b)\n",
    "print(a<=b)\n",
    "print(a==b)\n",
    "print(a!=b)"
   ]
  },
  {
   "cell_type": "markdown",
   "id": "9140460f",
   "metadata": {},
   "source": [
    "#### Logical operator"
   ]
  },
  {
   "cell_type": "code",
   "execution_count": 12,
   "id": "3061bfac",
   "metadata": {},
   "outputs": [
    {
     "name": "stdout",
     "output_type": "stream",
     "text": [
      "False\n",
      "True\n"
     ]
    }
   ],
   "source": [
    "c1 = a > 10\n",
    "c2 = b > 10\n",
    "r1 = c1 and c2\n",
    "r2 = c1 or c2\n",
    "print(r1)\n",
    "print(r2)"
   ]
  },
  {
   "cell_type": "markdown",
   "id": "32a2a6f0",
   "metadata": {},
   "source": [
    "#### IF - ELSE"
   ]
  },
  {
   "cell_type": "code",
   "execution_count": 13,
   "id": "bbe9403d",
   "metadata": {},
   "outputs": [
    {
     "name": "stdout",
     "output_type": "stream",
     "text": [
      "i am Else\n"
     ]
    }
   ],
   "source": [
    "a = False\n",
    "if a:\n",
    "    print(\"i am IF\")\n",
    "else:\n",
    "    print(\"i am Else\")"
   ]
  },
  {
   "cell_type": "code",
   "execution_count": 16,
   "id": "42f3ccb5",
   "metadata": {},
   "outputs": [
    {
     "name": "stdout",
     "output_type": "stream",
     "text": [
      "11\n",
      "odd\n"
     ]
    }
   ],
   "source": [
    "## Check Even and Odd\n",
    "n = int(input())\n",
    "r = n % 2\n",
    "if r == 0:\n",
    "    print(\"even\")\n",
    "else:\n",
    "    print(\"odd\")"
   ]
  },
  {
   "cell_type": "markdown",
   "id": "fd264fd5",
   "metadata": {},
   "source": [
    "#### using operators in IF-Else"
   ]
  },
  {
   "cell_type": "code",
   "execution_count": 17,
   "id": "4b1bc358",
   "metadata": {},
   "outputs": [
    {
     "name": "stdout",
     "output_type": "stream",
     "text": [
      "10\n",
      "11\n",
      "no they are not\n"
     ]
    }
   ],
   "source": [
    "a = int(input())\n",
    "b = int(input())\n",
    "\n",
    "c1 = a > 10\n",
    "c2 = b > 10\n",
    "\n",
    "r = c1 and c2\n",
    "\n",
    "if r:\n",
    "    print(\"both are greater than 10\")\n",
    "else:\n",
    "    print(\"no they are not\")"
   ]
  },
  {
   "cell_type": "code",
   "execution_count": 19,
   "id": "ce35301d",
   "metadata": {},
   "outputs": [
    {
     "name": "stdout",
     "output_type": "stream",
     "text": [
      "10\n",
      "11\n",
      "one of them is greater than 10\n"
     ]
    }
   ],
   "source": [
    "a = int(input())\n",
    "b = int(input())\n",
    "\n",
    "c1 = a > 10\n",
    "c2 = b > 10\n",
    "\n",
    "r = c1 or c2\n",
    "\n",
    "if r:\n",
    "    print(\"one of them is greater than 10\")\n",
    "else:\n",
    "    print(\"no they are not\")"
   ]
  },
  {
   "cell_type": "markdown",
   "id": "76f235ac",
   "metadata": {},
   "source": [
    "#### ELIF"
   ]
  },
  {
   "cell_type": "code",
   "execution_count": 20,
   "id": "5ecb2b2b",
   "metadata": {},
   "outputs": [],
   "source": [
    "### find largest of three numbers"
   ]
  },
  {
   "cell_type": "code",
   "execution_count": 25,
   "id": "996a4d96",
   "metadata": {},
   "outputs": [
    {
     "name": "stdout",
     "output_type": "stream",
     "text": [
      "2\n",
      "3\n",
      "4\n",
      "4\n"
     ]
    }
   ],
   "source": [
    "a = int(input())\n",
    "b = int(input())\n",
    "c = int(input())\n",
    "if a > b and a > c:\n",
    "    print(a)\n",
    "elif b > a and b > c:\n",
    "    print(c)\n",
    "else:\n",
    "    print(c)"
   ]
  },
  {
   "cell_type": "markdown",
   "id": "6454391d",
   "metadata": {},
   "source": [
    "#### nested IF - Else"
   ]
  },
  {
   "cell_type": "code",
   "execution_count": null,
   "id": "a5354322",
   "metadata": {},
   "outputs": [],
   "source": [
    "    "
   ]
  },
  {
   "cell_type": "markdown",
   "id": "8a515d51",
   "metadata": {},
   "source": [
    "#### WHILE loop"
   ]
  },
  {
   "cell_type": "code",
   "execution_count": 26,
   "id": "fc71da4f",
   "metadata": {},
   "outputs": [],
   "source": [
    "#### print fisrt N natural numbers"
   ]
  },
  {
   "cell_type": "code",
   "execution_count": 28,
   "id": "7dcb568a",
   "metadata": {},
   "outputs": [
    {
     "name": "stdout",
     "output_type": "stream",
     "text": [
      "5\n",
      "1\n",
      "2\n",
      "3\n",
      "4\n",
      "5\n"
     ]
    }
   ],
   "source": [
    "n = int(input())\n",
    "count = 1\n",
    "while count <= n:\n",
    "    print(count)\n",
    "    count = count + 1"
   ]
  },
  {
   "cell_type": "code",
   "execution_count": 29,
   "id": "10e2896b",
   "metadata": {},
   "outputs": [],
   "source": [
    "#### sum of first N natural numbers"
   ]
  },
  {
   "cell_type": "code",
   "execution_count": 33,
   "id": "b4a42481",
   "metadata": {},
   "outputs": [
    {
     "name": "stdout",
     "output_type": "stream",
     "text": [
      "10\n",
      "55\n"
     ]
    }
   ],
   "source": [
    "n = int(input())\n",
    "count = 1\n",
    "sum = 0\n",
    "\n",
    "while(count<=n):\n",
    "    sum = sum + count\n",
    "    count = count + 1\n",
    "print(sum)"
   ]
  },
  {
   "cell_type": "code",
   "execution_count": 34,
   "id": "c5445945",
   "metadata": {},
   "outputs": [],
   "source": [
    "#### print sum of all even numbers"
   ]
  },
  {
   "cell_type": "code",
   "execution_count": 35,
   "id": "3811fc28",
   "metadata": {},
   "outputs": [
    {
     "name": "stdout",
     "output_type": "stream",
     "text": [
      "10\n",
      "30\n"
     ]
    }
   ],
   "source": [
    "n = int(input())\n",
    "sum = 0\n",
    "count = 0\n",
    "while(count<=n):\n",
    "    if count % 2 == 0:\n",
    "        sum = sum + count\n",
    "    count = count + 1\n",
    "print(sum)"
   ]
  },
  {
   "cell_type": "code",
   "execution_count": 36,
   "id": "36b01e07",
   "metadata": {},
   "outputs": [],
   "source": [
    "#### Prime or Not"
   ]
  },
  {
   "cell_type": "code",
   "execution_count": 46,
   "id": "a6ba1309",
   "metadata": {},
   "outputs": [
    {
     "name": "stdout",
     "output_type": "stream",
     "text": [
      "17\n",
      "not prime\n"
     ]
    }
   ],
   "source": [
    "n = int(input())\n",
    "d = 2\n",
    "flag = False\n",
    "\n",
    "while(d<n):\n",
    "    if(n%d==0):\n",
    "        flag = True\n",
    "\n",
    "    d=d+1\n",
    "if flag:\n",
    "    print(\"prime\")\n",
    "else:\n",
    "    print(\"not prime\")\n",
    "#     print(d)"
   ]
  },
  {
   "cell_type": "code",
   "execution_count": 47,
   "id": "20ef0006",
   "metadata": {},
   "outputs": [],
   "source": [
    "#### check how many prime numbers till N"
   ]
  },
  {
   "cell_type": "code",
   "execution_count": 50,
   "id": "b7fcaea7",
   "metadata": {},
   "outputs": [
    {
     "name": "stdout",
     "output_type": "stream",
     "text": [
      "5\n",
      "2\n",
      "3\n",
      "5\n"
     ]
    }
   ],
   "source": [
    "n = int(input())\n",
    "k = 2\n",
    "while(k<=n):\n",
    "    d = 2\n",
    "    flag = False\n",
    "    while(d<k):\n",
    "        if(k%d==0):\n",
    "            flag = True\n",
    "        d = d + 1\n",
    "    if not(flag):\n",
    "        print(k)\n",
    "    k = k + 1"
   ]
  },
  {
   "cell_type": "code",
   "execution_count": 51,
   "id": "7878d6e6",
   "metadata": {},
   "outputs": [],
   "source": [
    "#### reverse of a number"
   ]
  },
  {
   "cell_type": "code",
   "execution_count": 67,
   "id": "09155a14",
   "metadata": {},
   "outputs": [
    {
     "name": "stdout",
     "output_type": "stream",
     "text": [
      "12345\n",
      "54321\n"
     ]
    }
   ],
   "source": [
    "n = int(input())\n",
    "rev = 0\n",
    "while(n!=0):\n",
    "    last = n%10\n",
    "    n = n // 10\n",
    "    rev = rev * 10 + last\n",
    "print(rev)"
   ]
  },
  {
   "cell_type": "code",
   "execution_count": 57,
   "id": "d9bf81f8",
   "metadata": {},
   "outputs": [],
   "source": [
    "### palindrome number"
   ]
  },
  {
   "cell_type": "code",
   "execution_count": 65,
   "id": "18d3e347",
   "metadata": {},
   "outputs": [
    {
     "name": "stdout",
     "output_type": "stream",
     "text": [
      "111\n",
      "True\n"
     ]
    }
   ],
   "source": [
    "num = int(input())\n",
    "temp = num\n",
    "rev = 0\n",
    "while(num!=0):\n",
    "    last = num%10\n",
    "    num = num//10\n",
    "    rev = rev * 10 + last\n",
    "if rev == temp:\n",
    "    print('True')\n",
    "else:\n",
    "    print('False')"
   ]
  },
  {
   "cell_type": "code",
   "execution_count": 68,
   "id": "089733bc",
   "metadata": {},
   "outputs": [],
   "source": [
    "### sum of even and odd digits of a number"
   ]
  },
  {
   "cell_type": "code",
   "execution_count": 77,
   "id": "ade40f82",
   "metadata": {},
   "outputs": [
    {
     "name": "stdout",
     "output_type": "stream",
     "text": [
      "123\n",
      "2 \t 4\n"
     ]
    }
   ],
   "source": [
    "n = int(input())\n",
    "temp = n\n",
    "sum_even = 0\n",
    "sum_odd = 0\n",
    "\n",
    "while(temp!=0):\n",
    "    digit = temp%10\n",
    "    if(digit % 2 == 0):\n",
    "        sum_even = sum_even + digit\n",
    "    else:\n",
    "        sum_odd = sum_odd + digit\n",
    "    temp = temp // 10\n",
    "print(sum_even , \"\\t\" , sum_odd)"
   ]
  },
  {
   "cell_type": "code",
   "execution_count": 78,
   "id": "52d1bbbb",
   "metadata": {},
   "outputs": [],
   "source": [
    "#### Nth Fibonnaci Number"
   ]
  },
  {
   "cell_type": "code",
   "execution_count": 81,
   "id": "d7e63c19",
   "metadata": {},
   "outputs": [
    {
     "name": "stdout",
     "output_type": "stream",
     "text": [
      "6\n",
      "8\n"
     ]
    }
   ],
   "source": [
    "#     F(n) = F(n-1) + F(n-2), \n",
    "n = int(input())\n",
    "a = 0\n",
    "b = 1\n",
    "c = -1\n",
    "temp = 1\n",
    "while(temp <= n):\n",
    "    c = a + b\n",
    "    a = b\n",
    "    b = c\n",
    "    temp = temp + 1\n",
    "print(a)"
   ]
  },
  {
   "cell_type": "markdown",
   "id": "468e664c",
   "metadata": {},
   "source": [
    "## Patterns"
   ]
  },
  {
   "cell_type": "code",
   "execution_count": null,
   "id": "43fca74b",
   "metadata": {},
   "outputs": [],
   "source": []
  },
  {
   "cell_type": "markdown",
   "id": "c567b4d0",
   "metadata": {},
   "source": [
    "## More on Loops"
   ]
  },
  {
   "cell_type": "markdown",
   "id": "4ed5c9ec",
   "metadata": {},
   "source": [
    "#### FOR loop"
   ]
  },
  {
   "cell_type": "code",
   "execution_count": 82,
   "id": "0ab4b0b8",
   "metadata": {},
   "outputs": [
    {
     "name": "stdout",
     "output_type": "stream",
     "text": [
      "a\n",
      "b\n",
      "c\n",
      "d\n"
     ]
    }
   ],
   "source": [
    "s = 'abcd'\n",
    "for i in s:\n",
    "    print(i)"
   ]
  },
  {
   "cell_type": "code",
   "execution_count": 83,
   "id": "1c3aabe1",
   "metadata": {},
   "outputs": [],
   "source": [
    "#### print numbers from 0 to N"
   ]
  },
  {
   "cell_type": "code",
   "execution_count": 90,
   "id": "905a2810",
   "metadata": {},
   "outputs": [
    {
     "name": "stdout",
     "output_type": "stream",
     "text": [
      "5\n",
      "0\n",
      "1\n",
      "2\n",
      "3\n",
      "4\n",
      "5\n"
     ]
    }
   ],
   "source": [
    "n = int(input())\n",
    "for i in range(n+1):\n",
    "    print(i)"
   ]
  },
  {
   "cell_type": "code",
   "execution_count": 89,
   "id": "e4d69bb7",
   "metadata": {},
   "outputs": [
    {
     "name": "stdout",
     "output_type": "stream",
     "text": [
      "5\n",
      "1\n",
      "2\n",
      "3\n",
      "4\n",
      "5\n"
     ]
    }
   ],
   "source": [
    "n = int(input())\n",
    "for i in range(1,n+1):\n",
    "    print(i)"
   ]
  },
  {
   "cell_type": "code",
   "execution_count": 92,
   "id": "357cfd56",
   "metadata": {},
   "outputs": [
    {
     "name": "stdout",
     "output_type": "stream",
     "text": [
      "5\n",
      "1\n",
      "3\n",
      "5\n"
     ]
    }
   ],
   "source": [
    "n = int(input())\n",
    "for i in range(1,n+1,2):\n",
    "    print(i)"
   ]
  },
  {
   "cell_type": "code",
   "execution_count": 93,
   "id": "8b741fc1",
   "metadata": {},
   "outputs": [],
   "source": [
    "#### numbers from N to 1"
   ]
  },
  {
   "cell_type": "code",
   "execution_count": 97,
   "id": "3f827a12",
   "metadata": {},
   "outputs": [
    {
     "name": "stdout",
     "output_type": "stream",
     "text": [
      "5\n",
      "5\n",
      "4\n",
      "3\n",
      "2\n",
      "1\n"
     ]
    }
   ],
   "source": [
    "n = int(input())\n",
    "for i in range(n,0,-1):\n",
    "    print(i)"
   ]
  },
  {
   "cell_type": "code",
   "execution_count": 99,
   "id": "cc80af40",
   "metadata": {},
   "outputs": [
    {
     "name": "stdout",
     "output_type": "stream",
     "text": [
      "1\n",
      "10\n",
      "3\n",
      "6\n",
      "9\n"
     ]
    }
   ],
   "source": [
    "a = int(input())\n",
    "b = int(input())\n",
    "\n",
    "for i in range(a,b+1,1):\n",
    "    if(i%3==0):\n",
    "        print(i)"
   ]
  },
  {
   "cell_type": "code",
   "execution_count": 100,
   "id": "600130d0",
   "metadata": {},
   "outputs": [
    {
     "name": "stdout",
     "output_type": "stream",
     "text": [
      "1\n",
      "10\n",
      "3\n",
      "6\n",
      "9\n"
     ]
    }
   ],
   "source": [
    "#### improved\n",
    "a = int(input())\n",
    "b = int(input())\n",
    "\n",
    "if a%3==0:\n",
    "    s=a\n",
    "elif a%3==1:\n",
    "    s = a+2\n",
    "else:\n",
    "    s=a+1\n",
    "\n",
    "for i in range(s,b+1,3):\n",
    "    print(i)"
   ]
  },
  {
   "cell_type": "markdown",
   "id": "269af566",
   "metadata": {},
   "source": [
    "#### BREAK"
   ]
  },
  {
   "cell_type": "code",
   "execution_count": 102,
   "id": "3bf8addf",
   "metadata": {},
   "outputs": [
    {
     "name": "stdout",
     "output_type": "stream",
     "text": [
      "1\n",
      "2\n",
      "3\n",
      "4\n"
     ]
    }
   ],
   "source": [
    "i = 1\n",
    "while(i<10):\n",
    "    if i==5:\n",
    "        break\n",
    "    print(i)\n",
    "    i = i + 1"
   ]
  },
  {
   "cell_type": "code",
   "execution_count": 103,
   "id": "4ca8fba9",
   "metadata": {},
   "outputs": [],
   "source": [
    "#### BREAK statement , check prime, while loop"
   ]
  },
  {
   "cell_type": "code",
   "execution_count": 107,
   "id": "6b03db62",
   "metadata": {},
   "outputs": [
    {
     "name": "stdout",
     "output_type": "stream",
     "text": [
      "5\n",
      "Not prime\n"
     ]
    }
   ],
   "source": [
    "n = int(input())\n",
    "div = 2\n",
    "flag = False\n",
    "while(div < n):\n",
    "    if n%div == 0:\n",
    "        flag = True\n",
    "        break\n",
    "    \n",
    "    div += 1\n",
    "if flag:\n",
    "    print('Prime')\n",
    "else:\n",
    "    print('Not prime')"
   ]
  },
  {
   "cell_type": "code",
   "execution_count": 108,
   "id": "510142c6",
   "metadata": {},
   "outputs": [],
   "source": [
    "#### BREAK statement , check prime, FOR loop"
   ]
  },
  {
   "cell_type": "code",
   "execution_count": 113,
   "id": "68058d41",
   "metadata": {},
   "outputs": [
    {
     "name": "stdout",
     "output_type": "stream",
     "text": [
      "6\n",
      "Prime\n"
     ]
    }
   ],
   "source": [
    "n = int(input())\n",
    "div = 2\n",
    "flag = False\n",
    "for i in range(n):\n",
    "    if n%div==0:\n",
    "        flag = True\n",
    "        break\n",
    "#         flag = True\n",
    "if flag:\n",
    "    print('Prime')\n",
    "else:\n",
    "    print(\"not prime\")"
   ]
  },
  {
   "cell_type": "code",
   "execution_count": 114,
   "id": "2c17e5c7",
   "metadata": {},
   "outputs": [],
   "source": [
    "#### Print prime from 2 to N"
   ]
  },
  {
   "cell_type": "code",
   "execution_count": 121,
   "id": "2a09c635",
   "metadata": {},
   "outputs": [
    {
     "name": "stdout",
     "output_type": "stream",
     "text": [
      "10\n",
      "2\n",
      "3\n",
      "5\n",
      "7\n"
     ]
    }
   ],
   "source": [
    "n = int(input())\n",
    "k=2\n",
    "for i in range(k,n):\n",
    "    d = 2\n",
    "    flag = False\n",
    "    for i in range(d,k):\n",
    "        if k%d==0:\n",
    "            flag=True\n",
    "            break\n",
    "        d = d + 1\n",
    "    if(not(flag)):\n",
    "        print(k)\n",
    "    k = k + 1"
   ]
  },
  {
   "cell_type": "markdown",
   "id": "3cc47ecb",
   "metadata": {},
   "source": [
    "#### ELSE "
   ]
  },
  {
   "cell_type": "code",
   "execution_count": null,
   "id": "8d9583a0",
   "metadata": {},
   "outputs": [],
   "source": []
  },
  {
   "cell_type": "markdown",
   "id": "9e270471",
   "metadata": {},
   "source": [
    "#### CONTINUE keyword with FOR loop"
   ]
  },
  {
   "cell_type": "code",
   "execution_count": null,
   "id": "a99d1e3e",
   "metadata": {},
   "outputs": [],
   "source": []
  },
  {
   "cell_type": "markdown",
   "id": "25a5a8cd",
   "metadata": {},
   "source": [
    "#### CONTINUE keyword with WHILE loop"
   ]
  },
  {
   "cell_type": "code",
   "execution_count": null,
   "id": "8c229795",
   "metadata": {},
   "outputs": [],
   "source": []
  },
  {
   "cell_type": "markdown",
   "id": "9492fcee",
   "metadata": {},
   "source": [
    "## Functions"
   ]
  },
  {
   "cell_type": "code",
   "execution_count": 7,
   "id": "b1a0e491",
   "metadata": {},
   "outputs": [],
   "source": [
    "# nCr = n! / ( r! * (n-r)!) using FUNCTIONS"
   ]
  },
  {
   "cell_type": "code",
   "execution_count": 3,
   "id": "06e94103",
   "metadata": {},
   "outputs": [],
   "source": [
    "def fact(a):\n",
    "    a_fact = 1\n",
    "    for i in range(1,a+1):\n",
    "        a_fact = a_fact * i\n",
    "    return a_fact"
   ]
  },
  {
   "cell_type": "code",
   "execution_count": 6,
   "id": "e4f42401",
   "metadata": {},
   "outputs": [
    {
     "name": "stdout",
     "output_type": "stream",
     "text": [
      "4\n",
      "2\n",
      "6\n"
     ]
    }
   ],
   "source": [
    "n = int(input())\n",
    "r = int(input())\n",
    "\n",
    "n_fact = fact(n)\n",
    "r_fact = fact(r)\n",
    "n_r_fact = fact(n-r)\n",
    "\n",
    "ans = n_fact // (r_fact * n_r_fact)\n",
    "print(ans)"
   ]
  },
  {
   "cell_type": "code",
   "execution_count": 8,
   "id": "6d55d522",
   "metadata": {},
   "outputs": [],
   "source": [
    "#### is prime using FUNCTIONS"
   ]
  },
  {
   "cell_type": "code",
   "execution_count": 31,
   "id": "32f8ebe8",
   "metadata": {},
   "outputs": [
    {
     "name": "stdout",
     "output_type": "stream",
     "text": [
      "10\n",
      "False\n"
     ]
    }
   ],
   "source": [
    "def is_prime(n):\n",
    "    for d in range(2,n+1):\n",
    "        if n%d==0:\n",
    "            break\n",
    "    else:\n",
    "        return True\n",
    "    return False\n",
    "\n",
    "n = int(input())\n",
    "print(is_prime(n))"
   ]
  },
  {
   "cell_type": "code",
   "execution_count": 15,
   "id": "7db9ee0c",
   "metadata": {},
   "outputs": [],
   "source": [
    "#### Prime numbers from 2 to N using functions"
   ]
  },
  {
   "cell_type": "code",
   "execution_count": 29,
   "id": "63ecc472",
   "metadata": {},
   "outputs": [],
   "source": [
    "def prime_from_2_to_N(n):\n",
    "    for i in range(2,n+1):\n",
    "        is_n_prime = is_prime(i)\n",
    "        if(is_n_prime):\n",
    "            print(i)\n",
    "    "
   ]
  },
  {
   "cell_type": "code",
   "execution_count": 30,
   "id": "d9506da3",
   "metadata": {},
   "outputs": [
    {
     "name": "stdout",
     "output_type": "stream",
     "text": [
      "20\n",
      "3\n",
      "5\n",
      "7\n",
      "9\n",
      "11\n",
      "13\n",
      "15\n",
      "17\n",
      "19\n"
     ]
    }
   ],
   "source": [
    "n = int(input())\n",
    "prime_from_2_to_N(n)"
   ]
  },
  {
   "cell_type": "markdown",
   "id": "d3a7c618",
   "metadata": {},
   "source": [
    "#### Scope of variables"
   ]
  },
  {
   "cell_type": "code",
   "execution_count": 34,
   "id": "01d3d8e4",
   "metadata": {},
   "outputs": [
    {
     "name": "stdout",
     "output_type": "stream",
     "text": [
      "10\n"
     ]
    },
    {
     "ename": "NameError",
     "evalue": "name 'b1' is not defined",
     "output_type": "error",
     "traceback": [
      "\u001b[1;31m---------------------------------------------------------------------------\u001b[0m",
      "\u001b[1;31mNameError\u001b[0m                                 Traceback (most recent call last)",
      "\u001b[1;32m<ipython-input-34-2417bbda4c47>\u001b[0m in \u001b[0;36m<module>\u001b[1;34m\u001b[0m\n\u001b[0;32m      4\u001b[0m \u001b[1;33m\u001b[0m\u001b[0m\n\u001b[0;32m      5\u001b[0m \u001b[0mprint\u001b[0m\u001b[1;33m(\u001b[0m\u001b[0ma1\u001b[0m\u001b[1;33m)\u001b[0m\u001b[1;33m\u001b[0m\u001b[1;33m\u001b[0m\u001b[0m\n\u001b[1;32m----> 6\u001b[1;33m \u001b[0mprint\u001b[0m\u001b[1;33m(\u001b[0m\u001b[0mb1\u001b[0m\u001b[1;33m)\u001b[0m     \u001b[1;31m#### you cannot access the Local variable w/o calling the function\u001b[0m\u001b[1;33m\u001b[0m\u001b[1;33m\u001b[0m\u001b[0m\n\u001b[0m",
      "\u001b[1;31mNameError\u001b[0m: name 'b1' is not defined"
     ]
    }
   ],
   "source": [
    "a1 = 10   ## GLOBAL variable\n",
    "def f1():\n",
    "    b1 = 12  ## LOCAL variable\n",
    "\n",
    "print(a1)\n",
    "print(b1)     #### you cannot access the Local variable w/o calling the function"
   ]
  },
  {
   "cell_type": "code",
   "execution_count": 36,
   "id": "02266cf3",
   "metadata": {},
   "outputs": [
    {
     "name": "stdout",
     "output_type": "stream",
     "text": [
      "10\n"
     ]
    },
    {
     "ename": "NameError",
     "evalue": "name 'b1' is not defined",
     "output_type": "error",
     "traceback": [
      "\u001b[1;31m---------------------------------------------------------------------------\u001b[0m",
      "\u001b[1;31mNameError\u001b[0m                                 Traceback (most recent call last)",
      "\u001b[1;32m<ipython-input-36-ea05a93adf8a>\u001b[0m in \u001b[0;36m<module>\u001b[1;34m\u001b[0m\n\u001b[0;32m      5\u001b[0m \u001b[0mprint\u001b[0m\u001b[1;33m(\u001b[0m\u001b[0ma1\u001b[0m\u001b[1;33m)\u001b[0m\u001b[1;33m\u001b[0m\u001b[1;33m\u001b[0m\u001b[0m\n\u001b[0;32m      6\u001b[0m \u001b[0mf1\u001b[0m\u001b[1;33m(\u001b[0m\u001b[1;33m)\u001b[0m\u001b[1;33m\u001b[0m\u001b[1;33m\u001b[0m\u001b[0m\n\u001b[1;32m----> 7\u001b[1;33m \u001b[0mprint\u001b[0m\u001b[1;33m(\u001b[0m\u001b[0mb1\u001b[0m\u001b[1;33m)\u001b[0m     \u001b[1;31m#### you cannot access the Local variable even when Function is called\u001b[0m\u001b[1;33m\u001b[0m\u001b[1;33m\u001b[0m\u001b[0m\n\u001b[0m\u001b[0;32m      8\u001b[0m \u001b[1;33m\u001b[0m\u001b[0m\n\u001b[0;32m      9\u001b[0m \u001b[1;31m#### b1 is available only in the function and not outside it.\u001b[0m\u001b[1;33m\u001b[0m\u001b[1;33m\u001b[0m\u001b[1;33m\u001b[0m\u001b[0m\n",
      "\u001b[1;31mNameError\u001b[0m: name 'b1' is not defined"
     ]
    }
   ],
   "source": [
    "a1 = 10   ## GLOBAL variable\n",
    "def f1():\n",
    "    b1 = 12  ## LOCAL variable\n",
    "\n",
    "print(a1)\n",
    "f1()\n",
    "print(b1)     #### you cannot access the Local variable even when Function is called\n",
    "\n",
    "#### b1 is available only in the function and not outside it. "
   ]
  },
  {
   "cell_type": "code",
   "execution_count": 41,
   "id": "8d7030c6",
   "metadata": {},
   "outputs": [
    {
     "name": "stdout",
     "output_type": "stream",
     "text": [
      "10\n",
      "12\n"
     ]
    }
   ],
   "source": [
    "a1 = 10   ## GLOBAL variable\n",
    "def f1():\n",
    "    b1 = 12  ## LOCAL variable\n",
    "    print(b1)  \n",
    "    #### Local variable printed inside the function\n",
    "\n",
    "print(a1)\n",
    "f1()"
   ]
  },
  {
   "cell_type": "code",
   "execution_count": 44,
   "id": "3b2539d8",
   "metadata": {},
   "outputs": [
    {
     "name": "stdout",
     "output_type": "stream",
     "text": [
      "10\n",
      "12\n",
      "10\n"
     ]
    }
   ],
   "source": [
    "a2 = 10   ## GLOBAL variable\n",
    "def f2():\n",
    "    b2 = 12  ## LOCAL variable\n",
    "    print(b2)\n",
    "    print(a2)\n",
    "\n",
    "print(a2)\n",
    "f2()\n",
    "#### you can print the Global variable in the function"
   ]
  },
  {
   "cell_type": "code",
   "execution_count": 46,
   "id": "22bbb4bf",
   "metadata": {},
   "outputs": [
    {
     "name": "stdout",
     "output_type": "stream",
     "text": [
      "10\n",
      "12\n",
      "10\n"
     ]
    },
    {
     "ename": "NameError",
     "evalue": "name 'c3' is not defined",
     "output_type": "error",
     "traceback": [
      "\u001b[1;31m---------------------------------------------------------------------------\u001b[0m",
      "\u001b[1;31mNameError\u001b[0m                                 Traceback (most recent call last)",
      "\u001b[1;32m<ipython-input-46-2fab73d60d09>\u001b[0m in \u001b[0;36m<module>\u001b[1;34m\u001b[0m\n\u001b[0;32m      7\u001b[0m \u001b[1;33m\u001b[0m\u001b[0m\n\u001b[0;32m      8\u001b[0m \u001b[0mprint\u001b[0m\u001b[1;33m(\u001b[0m\u001b[0ma2\u001b[0m\u001b[1;33m)\u001b[0m\u001b[1;33m\u001b[0m\u001b[1;33m\u001b[0m\u001b[0m\n\u001b[1;32m----> 9\u001b[1;33m \u001b[0mf2\u001b[0m\u001b[1;33m(\u001b[0m\u001b[1;33m)\u001b[0m\u001b[1;33m\u001b[0m\u001b[1;33m\u001b[0m\u001b[0m\n\u001b[0m\u001b[0;32m     10\u001b[0m \u001b[0mc3\u001b[0m \u001b[1;33m=\u001b[0m \u001b[1;36m20\u001b[0m\u001b[1;33m\u001b[0m\u001b[1;33m\u001b[0m\u001b[0m\n\u001b[0;32m     11\u001b[0m \u001b[1;31m#### you cannot print the variable which is not DEFINED\u001b[0m\u001b[1;33m\u001b[0m\u001b[1;33m\u001b[0m\u001b[1;33m\u001b[0m\u001b[0m\n",
      "\u001b[1;32m<ipython-input-46-2fab73d60d09>\u001b[0m in \u001b[0;36mf2\u001b[1;34m()\u001b[0m\n\u001b[0;32m      4\u001b[0m     \u001b[0mprint\u001b[0m\u001b[1;33m(\u001b[0m\u001b[0mb2\u001b[0m\u001b[1;33m)\u001b[0m\u001b[1;33m\u001b[0m\u001b[1;33m\u001b[0m\u001b[0m\n\u001b[0;32m      5\u001b[0m     \u001b[0mprint\u001b[0m\u001b[1;33m(\u001b[0m\u001b[0ma2\u001b[0m\u001b[1;33m)\u001b[0m\u001b[1;33m\u001b[0m\u001b[1;33m\u001b[0m\u001b[0m\n\u001b[1;32m----> 6\u001b[1;33m     \u001b[0mprint\u001b[0m\u001b[1;33m(\u001b[0m\u001b[0mc3\u001b[0m\u001b[1;33m)\u001b[0m\u001b[1;33m\u001b[0m\u001b[1;33m\u001b[0m\u001b[0m\n\u001b[0m\u001b[0;32m      7\u001b[0m \u001b[1;33m\u001b[0m\u001b[0m\n\u001b[0;32m      8\u001b[0m \u001b[0mprint\u001b[0m\u001b[1;33m(\u001b[0m\u001b[0ma2\u001b[0m\u001b[1;33m)\u001b[0m\u001b[1;33m\u001b[0m\u001b[1;33m\u001b[0m\u001b[0m\n",
      "\u001b[1;31mNameError\u001b[0m: name 'c3' is not defined"
     ]
    }
   ],
   "source": [
    "a2 = 10   ## GLOBAL variable\n",
    "def f2():\n",
    "    b2 = 12  ## LOCAL variable\n",
    "    print(b2)\n",
    "    print(a2)\n",
    "    print(c3)\n",
    "\n",
    "print(a2)\n",
    "f2()\n",
    "c3 = 20\n",
    "#### you cannot print the variable which is not DEFINED"
   ]
  },
  {
   "cell_type": "code",
   "execution_count": 48,
   "id": "c2aa1178",
   "metadata": {},
   "outputs": [
    {
     "name": "stdout",
     "output_type": "stream",
     "text": [
      "13\n",
      "12\n",
      "13\n"
     ]
    }
   ],
   "source": [
    "a4 = 13\n",
    "def f4():\n",
    "    a4 = 12\n",
    "    print(a4)\n",
    "    \n",
    "print(a4)\n",
    "f4()\n",
    "print(a4) \n",
    "#### global a4 and local a4 variable , both are different"
   ]
  },
  {
   "cell_type": "code",
   "execution_count": 50,
   "id": "37a61f2f",
   "metadata": {},
   "outputs": [
    {
     "name": "stdout",
     "output_type": "stream",
     "text": [
      "13\n",
      "12\n",
      "12\n"
     ]
    }
   ],
   "source": [
    "a4 = 13\n",
    "def f4():\n",
    "    global a4 #### if you want to use the Global variable in a function\n",
    "    a4 = 12\n",
    "    print(a4)\n",
    "    \n",
    "print(a4)\n",
    "f4()\n",
    "print(a4)"
   ]
  },
  {
   "cell_type": "markdown",
   "id": "92bd2024",
   "metadata": {},
   "source": [
    "## Arrays and Lists"
   ]
  },
  {
   "cell_type": "markdown",
   "id": "5221e93c",
   "metadata": {},
   "source": [
    "Q : How elments are stored in the List ?\n",
    "    \n",
    "    - 1. Lists stores the references of the element\n",
    "    - 2. All references are stored continuously"
   ]
  },
  {
   "cell_type": "markdown",
   "id": "b8b9c3eb",
   "metadata": {},
   "source": [
    "#### List resizing"
   ]
  },
  {
   "cell_type": "code",
   "execution_count": null,
   "id": "f0076ce5",
   "metadata": {},
   "outputs": [],
   "source": []
  },
  {
   "cell_type": "markdown",
   "id": "97afed1f",
   "metadata": {},
   "source": [
    "#### creating a List"
   ]
  },
  {
   "cell_type": "markdown",
   "id": "5e0b35c8",
   "metadata": {},
   "source": [
    "- Lists can store Data of multiple types ( Heterogeneous )\n",
    "- Lists maintain Order of element"
   ]
  },
  {
   "cell_type": "code",
   "execution_count": 51,
   "id": "28a73746",
   "metadata": {},
   "outputs": [],
   "source": [
    "li = []"
   ]
  },
  {
   "cell_type": "code",
   "execution_count": 52,
   "id": "0b22645d",
   "metadata": {},
   "outputs": [
    {
     "data": {
      "text/plain": [
       "list"
      ]
     },
     "execution_count": 52,
     "metadata": {},
     "output_type": "execute_result"
    }
   ],
   "source": [
    "type(li)"
   ]
  },
  {
   "cell_type": "code",
   "execution_count": 53,
   "id": "fb9f5275",
   "metadata": {},
   "outputs": [
    {
     "data": {
      "text/plain": [
       "list"
      ]
     },
     "execution_count": 53,
     "metadata": {},
     "output_type": "execute_result"
    }
   ],
   "source": [
    "li = [1,2,3]\n",
    "type(li)"
   ]
  },
  {
   "cell_type": "code",
   "execution_count": 54,
   "id": "530eac20",
   "metadata": {},
   "outputs": [],
   "source": [
    "li = [1,2,\"parikh\", 3.4]"
   ]
  },
  {
   "cell_type": "code",
   "execution_count": 55,
   "id": "c63bce89",
   "metadata": {},
   "outputs": [
    {
     "data": {
      "text/plain": [
       "[1, 2, 'parikh', 3.4]"
      ]
     },
     "execution_count": 55,
     "metadata": {},
     "output_type": "execute_result"
    }
   ],
   "source": [
    "li"
   ]
  },
  {
   "cell_type": "markdown",
   "id": "c721c941",
   "metadata": {},
   "source": [
    "#### Accessing elements and changing elements in the List"
   ]
  },
  {
   "cell_type": "markdown",
   "id": "227c6b0f",
   "metadata": {},
   "source": [
    "- indexing in the Lists starts from 0"
   ]
  },
  {
   "cell_type": "code",
   "execution_count": 56,
   "id": "1cd7f345",
   "metadata": {},
   "outputs": [
    {
     "data": {
      "text/plain": [
       "[1, 2, 'parikh', 3.4]"
      ]
     },
     "execution_count": 56,
     "metadata": {},
     "output_type": "execute_result"
    }
   ],
   "source": [
    "li = [1,2,\"parikh\", 3.4]\n",
    "li"
   ]
  },
  {
   "cell_type": "code",
   "execution_count": 57,
   "id": "c5fba0ea",
   "metadata": {},
   "outputs": [
    {
     "name": "stdout",
     "output_type": "stream",
     "text": [
      "1\n",
      "2\n",
      "3.4\n"
     ]
    }
   ],
   "source": [
    "print(li[0])\n",
    "print(li[1])\n",
    "print(li[3])"
   ]
  },
  {
   "cell_type": "code",
   "execution_count": 58,
   "id": "a34441f8",
   "metadata": {},
   "outputs": [
    {
     "name": "stdout",
     "output_type": "stream",
     "text": [
      "[1, 2, 'parikh', 'rohan']\n"
     ]
    }
   ],
   "source": [
    "li[3] = 'rohan'\n",
    "print(li)"
   ]
  },
  {
   "cell_type": "markdown",
   "id": "014e4a40",
   "metadata": {},
   "source": [
    "#### slicing of a List"
   ]
  },
  {
   "cell_type": "code",
   "execution_count": 59,
   "id": "b5ca5a5e",
   "metadata": {},
   "outputs": [
    {
     "data": {
      "text/plain": [
       "[2, 'parikh']"
      ]
     },
     "execution_count": 59,
     "metadata": {},
     "output_type": "execute_result"
    }
   ],
   "source": [
    "li[1:3]"
   ]
  },
  {
   "cell_type": "code",
   "execution_count": 60,
   "id": "051693cf",
   "metadata": {},
   "outputs": [
    {
     "data": {
      "text/plain": [
       "[2, 'parikh', 'rohan']"
      ]
     },
     "execution_count": 60,
     "metadata": {},
     "output_type": "execute_result"
    }
   ],
   "source": [
    "li[1:]"
   ]
  },
  {
   "cell_type": "markdown",
   "id": "6f457081",
   "metadata": {},
   "source": [
    "#### insert and append elements in a List"
   ]
  },
  {
   "cell_type": "markdown",
   "id": "3e23f037",
   "metadata": {},
   "source": [
    "- APPEND : adds in the last"
   ]
  },
  {
   "cell_type": "code",
   "execution_count": 61,
   "id": "b45ff2f5",
   "metadata": {},
   "outputs": [
    {
     "data": {
      "text/plain": [
       "[1, 2, 'parikh', 'rohan', 'ankush']"
      ]
     },
     "execution_count": 61,
     "metadata": {},
     "output_type": "execute_result"
    }
   ],
   "source": [
    "li.append('ankush')\n",
    "li"
   ]
  },
  {
   "cell_type": "markdown",
   "id": "2e5d1a80",
   "metadata": {},
   "source": [
    "- INSERT : insert(index,element)\n",
    "    - insert element at the mentioned index"
   ]
  },
  {
   "cell_type": "code",
   "execution_count": 62,
   "id": "d508d220",
   "metadata": {},
   "outputs": [
    {
     "data": {
      "text/plain": [
       "[1, 7, 2, 'parikh', 'rohan', 'ankush']"
      ]
     },
     "execution_count": 62,
     "metadata": {},
     "output_type": "execute_result"
    }
   ],
   "source": [
    "li.insert(1,7)\n",
    "li"
   ]
  },
  {
   "cell_type": "markdown",
   "id": "eab59ea8",
   "metadata": {},
   "source": [
    "-- if that index is not available, adds element in the last"
   ]
  },
  {
   "cell_type": "code",
   "execution_count": 63,
   "id": "48176519",
   "metadata": {},
   "outputs": [
    {
     "data": {
      "text/plain": [
       "[1, 7, 2, 'parikh', 'rohan', 'ankush', 'karan']"
      ]
     },
     "execution_count": 63,
     "metadata": {},
     "output_type": "execute_result"
    }
   ],
   "source": [
    "li.insert(9,'karan')\n",
    "li"
   ]
  },
  {
   "cell_type": "markdown",
   "id": "1a495a57",
   "metadata": {},
   "source": [
    "-- we can append list in a list"
   ]
  },
  {
   "cell_type": "code",
   "execution_count": 64,
   "id": "39e90eb4",
   "metadata": {},
   "outputs": [
    {
     "data": {
      "text/plain": [
       "[1, 7, 2, 'parikh', 'rohan', 'ankush', 'karan', [9, 10, 11]]"
      ]
     },
     "execution_count": 64,
     "metadata": {},
     "output_type": "execute_result"
    }
   ],
   "source": [
    "li.append([9,10,11])\n",
    "li"
   ]
  },
  {
   "cell_type": "markdown",
   "id": "0947bb45",
   "metadata": {},
   "source": [
    "- EXTEND - used when we have to add multiple elements in the List"
   ]
  },
  {
   "cell_type": "code",
   "execution_count": 65,
   "id": "d7d0ee25",
   "metadata": {},
   "outputs": [
    {
     "data": {
      "text/plain": [
       "[1, 7, 2, 'parikh', 'rohan', 'ankush', 'karan', [9, 10, 11], 9, 10, 11]"
      ]
     },
     "execution_count": 65,
     "metadata": {},
     "output_type": "execute_result"
    }
   ],
   "source": [
    "li.extend([9,10,11])\n",
    "li"
   ]
  },
  {
   "cell_type": "markdown",
   "id": "cced6d62",
   "metadata": {},
   "source": [
    "#### Removing element from the List"
   ]
  },
  {
   "cell_type": "markdown",
   "id": "e8593132",
   "metadata": {},
   "source": [
    "- REMOVE : remove the first occurence of the element, from start"
   ]
  },
  {
   "cell_type": "code",
   "execution_count": 66,
   "id": "71dde407",
   "metadata": {},
   "outputs": [
    {
     "data": {
      "text/plain": [
       "[1, 7, 2, 'parikh', 'rohan', 'ankush', 'karan', [9, 10, 11], 9, 10, 11]"
      ]
     },
     "execution_count": 66,
     "metadata": {},
     "output_type": "execute_result"
    }
   ],
   "source": [
    "li"
   ]
  },
  {
   "cell_type": "code",
   "execution_count": 67,
   "id": "05135e36",
   "metadata": {},
   "outputs": [
    {
     "data": {
      "text/plain": [
       "[1, 7, 'parikh', 'rohan', 'ankush', 'karan', [9, 10, 11], 9, 10, 11]"
      ]
     },
     "execution_count": 67,
     "metadata": {},
     "output_type": "execute_result"
    }
   ],
   "source": [
    "li.remove(2)\n",
    "li"
   ]
  },
  {
   "cell_type": "markdown",
   "id": "7fdb41ec",
   "metadata": {},
   "source": [
    "- POP : by default, removes element from last"
   ]
  },
  {
   "cell_type": "code",
   "execution_count": 68,
   "id": "87f7b31d",
   "metadata": {},
   "outputs": [
    {
     "data": {
      "text/plain": [
       "[1, 7, 'parikh', 'rohan', 'ankush', 'karan', [9, 10, 11], 9, 10]"
      ]
     },
     "execution_count": 68,
     "metadata": {},
     "output_type": "execute_result"
    }
   ],
   "source": [
    "li.pop()\n",
    "li"
   ]
  },
  {
   "cell_type": "markdown",
   "id": "a9c73b62",
   "metadata": {},
   "source": [
    "-- pop( index )"
   ]
  },
  {
   "cell_type": "code",
   "execution_count": 69,
   "id": "4dda0892",
   "metadata": {},
   "outputs": [
    {
     "data": {
      "text/plain": [
       "[1, 7, 'rohan', 'ankush', 'karan', [9, 10, 11], 9, 10]"
      ]
     },
     "execution_count": 69,
     "metadata": {},
     "output_type": "execute_result"
    }
   ],
   "source": [
    "li.pop(2)\n",
    "li"
   ]
  },
  {
   "cell_type": "markdown",
   "id": "50365271",
   "metadata": {},
   "source": [
    "- LEN : how many elements are present in list"
   ]
  },
  {
   "cell_type": "code",
   "execution_count": 70,
   "id": "4df94c99",
   "metadata": {},
   "outputs": [
    {
     "data": {
      "text/plain": [
       "8"
      ]
     },
     "execution_count": 70,
     "metadata": {},
     "output_type": "execute_result"
    }
   ],
   "source": [
    "len(li)"
   ]
  },
  {
   "cell_type": "markdown",
   "id": "688f8d24",
   "metadata": {},
   "source": [
    "#### Looping on List"
   ]
  },
  {
   "cell_type": "code",
   "execution_count": 71,
   "id": "758830ef",
   "metadata": {},
   "outputs": [
    {
     "data": {
      "text/plain": [
       "[1, 7, 'rohan', 'ankush', 'karan', [9, 10, 11], 9, 10]"
      ]
     },
     "execution_count": 71,
     "metadata": {},
     "output_type": "execute_result"
    }
   ],
   "source": [
    "li"
   ]
  },
  {
   "cell_type": "markdown",
   "id": "19ee865d",
   "metadata": {},
   "source": [
    "- method - 1 : with index"
   ]
  },
  {
   "cell_type": "code",
   "execution_count": 72,
   "id": "0f8bd974",
   "metadata": {},
   "outputs": [
    {
     "name": "stdout",
     "output_type": "stream",
     "text": [
      "1\n",
      "7\n",
      "rohan\n",
      "ankush\n",
      "karan\n",
      "[9, 10, 11]\n",
      "9\n",
      "10\n"
     ]
    }
   ],
   "source": [
    "for i in range(len(li)):\n",
    "    print(li[i])"
   ]
  },
  {
   "cell_type": "markdown",
   "id": "ecd1b63d",
   "metadata": {},
   "source": [
    "- method - 2 : w/o index"
   ]
  },
  {
   "cell_type": "code",
   "execution_count": 73,
   "id": "18cd89ac",
   "metadata": {},
   "outputs": [
    {
     "name": "stdout",
     "output_type": "stream",
     "text": [
      "1\n",
      "7\n",
      "rohan\n",
      "ankush\n",
      "karan\n",
      "[9, 10, 11]\n",
      "9\n",
      "10\n"
     ]
    }
   ],
   "source": [
    "for ele in li:\n",
    "    print(ele)"
   ]
  },
  {
   "cell_type": "markdown",
   "id": "0f37b080",
   "metadata": {},
   "source": [
    "- from that index onwards"
   ]
  },
  {
   "cell_type": "code",
   "execution_count": 74,
   "id": "725ec08f",
   "metadata": {},
   "outputs": [
    {
     "name": "stdout",
     "output_type": "stream",
     "text": [
      "rohan\n",
      "ankush\n",
      "karan\n",
      "[9, 10, 11]\n",
      "9\n",
      "10\n"
     ]
    }
   ],
   "source": [
    "for ele in li[2:]:\n",
    "    print(ele)"
   ]
  },
  {
   "cell_type": "markdown",
   "id": "eb5d2123",
   "metadata": {},
   "source": [
    "#### Negative indexing and sequencing on List"
   ]
  },
  {
   "cell_type": "code",
   "execution_count": 75,
   "id": "1148c0c2",
   "metadata": {},
   "outputs": [
    {
     "data": {
      "text/plain": [
       "[1, 2, 3, 4, 5]"
      ]
     },
     "execution_count": 75,
     "metadata": {},
     "output_type": "execute_result"
    }
   ],
   "source": [
    "li = [1,2,3,4,5]\n",
    "li"
   ]
  },
  {
   "cell_type": "markdown",
   "id": "1e12343c",
   "metadata": {},
   "source": [
    " - negative index"
   ]
  },
  {
   "cell_type": "code",
   "execution_count": 76,
   "id": "51aa83d0",
   "metadata": {},
   "outputs": [
    {
     "data": {
      "text/plain": [
       "5"
      ]
     },
     "execution_count": 76,
     "metadata": {},
     "output_type": "execute_result"
    }
   ],
   "source": [
    "li[-1]"
   ]
  },
  {
   "cell_type": "markdown",
   "id": "48cfc467",
   "metadata": {},
   "source": [
    "- sequencing on list\n",
    "- list [ start : end : steps ]"
   ]
  },
  {
   "cell_type": "code",
   "execution_count": 77,
   "id": "598a020a",
   "metadata": {},
   "outputs": [
    {
     "data": {
      "text/plain": [
       "[1, 2, 3, 4, 5]"
      ]
     },
     "execution_count": 77,
     "metadata": {},
     "output_type": "execute_result"
    }
   ],
   "source": [
    "li"
   ]
  },
  {
   "cell_type": "code",
   "execution_count": 78,
   "id": "a0ac3263",
   "metadata": {},
   "outputs": [
    {
     "data": {
      "text/plain": [
       "[2, 3, 4, 5]"
      ]
     },
     "execution_count": 78,
     "metadata": {},
     "output_type": "execute_result"
    }
   ],
   "source": [
    "li[1:5:1]"
   ]
  },
  {
   "cell_type": "code",
   "execution_count": 79,
   "id": "cba84360",
   "metadata": {},
   "outputs": [
    {
     "data": {
      "text/plain": [
       "[2, 3, 4, 5]"
      ]
     },
     "execution_count": 79,
     "metadata": {},
     "output_type": "execute_result"
    }
   ],
   "source": [
    "li[1:]"
   ]
  },
  {
   "cell_type": "code",
   "execution_count": 80,
   "id": "a32ba3c4",
   "metadata": {},
   "outputs": [
    {
     "data": {
      "text/plain": [
       "[2, 4]"
      ]
     },
     "execution_count": 80,
     "metadata": {},
     "output_type": "execute_result"
    }
   ],
   "source": [
    "li[1::2]"
   ]
  },
  {
   "cell_type": "code",
   "execution_count": 81,
   "id": "9a783f53",
   "metadata": {},
   "outputs": [
    {
     "data": {
      "text/plain": [
       "[5]"
      ]
     },
     "execution_count": 81,
     "metadata": {},
     "output_type": "execute_result"
    }
   ],
   "source": [
    "li[-1:]"
   ]
  },
  {
   "cell_type": "code",
   "execution_count": 84,
   "id": "8193ca7c",
   "metadata": {},
   "outputs": [
    {
     "data": {
      "text/plain": [
       "[5, 4, 3, 2]"
      ]
     },
     "execution_count": 84,
     "metadata": {},
     "output_type": "execute_result"
    }
   ],
   "source": [
    "li[-1:0:-1]"
   ]
  },
  {
   "cell_type": "code",
   "execution_count": 85,
   "id": "290de73a",
   "metadata": {},
   "outputs": [
    {
     "data": {
      "text/plain": [
       "[5, 4, 3, 2, 1]"
      ]
     },
     "execution_count": 85,
     "metadata": {},
     "output_type": "execute_result"
    }
   ],
   "source": [
    "li[-1::-1]"
   ]
  },
  {
   "cell_type": "code",
   "execution_count": 86,
   "id": "3e389ba3",
   "metadata": {},
   "outputs": [
    {
     "data": {
      "text/plain": [
       "[3, 4]"
      ]
     },
     "execution_count": 86,
     "metadata": {},
     "output_type": "execute_result"
    }
   ],
   "source": [
    "li[-3:-1]"
   ]
  },
  {
   "cell_type": "markdown",
   "id": "b880ad1d",
   "metadata": {},
   "source": [
    "#### Taking input in a list"
   ]
  },
  {
   "cell_type": "markdown",
   "id": "c9737a4e",
   "metadata": {},
   "source": [
    "- 1. Line separated"
   ]
  },
  {
   "cell_type": "code",
   "execution_count": 87,
   "id": "d9e1047a",
   "metadata": {},
   "outputs": [
    {
     "name": "stdout",
     "output_type": "stream",
     "text": [
      "5\n",
      "1\n",
      "2\n",
      "3\n",
      "4\n",
      "5\n"
     ]
    }
   ],
   "source": [
    "n = int(input())\n",
    "li = []\n",
    "for i in range(n):\n",
    "    curr = int(input())\n",
    "    li.append(curr)"
   ]
  },
  {
   "cell_type": "markdown",
   "id": "44595ae5",
   "metadata": {},
   "source": [
    " - 2. Space separated Input"
   ]
  },
  {
   "cell_type": "code",
   "execution_count": 100,
   "id": "90dd3687",
   "metadata": {},
   "outputs": [
    {
     "name": "stdout",
     "output_type": "stream",
     "text": [
      "5\n"
     ]
    }
   ],
   "source": [
    "n = int(input())"
   ]
  },
  {
   "cell_type": "code",
   "execution_count": 101,
   "id": "386aa9a1",
   "metadata": {},
   "outputs": [
    {
     "name": "stdout",
     "output_type": "stream",
     "text": [
      "1 2 3 4 5\n"
     ]
    }
   ],
   "source": [
    "str = input()"
   ]
  },
  {
   "cell_type": "code",
   "execution_count": 102,
   "id": "1bff68dc",
   "metadata": {},
   "outputs": [
    {
     "data": {
      "text/plain": [
       "'1 2 3 4 5'"
      ]
     },
     "execution_count": 102,
     "metadata": {},
     "output_type": "execute_result"
    }
   ],
   "source": [
    "str"
   ]
  },
  {
   "cell_type": "code",
   "execution_count": 103,
   "id": "ebb2a528",
   "metadata": {},
   "outputs": [],
   "source": [
    "li = []"
   ]
  },
  {
   "cell_type": "code",
   "execution_count": 104,
   "id": "7c490805",
   "metadata": {},
   "outputs": [],
   "source": [
    "str_split = str.split(' ')"
   ]
  },
  {
   "cell_type": "code",
   "execution_count": 105,
   "id": "9d986dde",
   "metadata": {},
   "outputs": [
    {
     "data": {
      "text/plain": [
       "['1', '2', '3', '4', '5']"
      ]
     },
     "execution_count": 105,
     "metadata": {},
     "output_type": "execute_result"
    }
   ],
   "source": [
    "str_split"
   ]
  },
  {
   "cell_type": "code",
   "execution_count": 106,
   "id": "d88c28a4",
   "metadata": {},
   "outputs": [
    {
     "name": "stdout",
     "output_type": "stream",
     "text": [
      "1,2,3,4,5\n"
     ]
    }
   ],
   "source": [
    "str2 = input()"
   ]
  },
  {
   "cell_type": "code",
   "execution_count": 107,
   "id": "672f8ea8",
   "metadata": {},
   "outputs": [],
   "source": [
    "str2_split = str2.split(',')"
   ]
  },
  {
   "cell_type": "code",
   "execution_count": 108,
   "id": "28ee89e4",
   "metadata": {},
   "outputs": [
    {
     "data": {
      "text/plain": [
       "['1', '2', '3', '4', '5']"
      ]
     },
     "execution_count": 108,
     "metadata": {},
     "output_type": "execute_result"
    }
   ],
   "source": [
    "str2_split"
   ]
  },
  {
   "cell_type": "code",
   "execution_count": 109,
   "id": "5257908c",
   "metadata": {},
   "outputs": [],
   "source": [
    "li = []"
   ]
  },
  {
   "cell_type": "code",
   "execution_count": 110,
   "id": "2b5bf685",
   "metadata": {},
   "outputs": [],
   "source": [
    "for ele in str_split:\n",
    "    li.append(int(ele))"
   ]
  },
  {
   "cell_type": "code",
   "execution_count": 111,
   "id": "5121f0a8",
   "metadata": {},
   "outputs": [
    {
     "data": {
      "text/plain": [
       "[1, 2, 3, 4, 5]"
      ]
     },
     "execution_count": 111,
     "metadata": {},
     "output_type": "execute_result"
    }
   ],
   "source": [
    "li"
   ]
  },
  {
   "cell_type": "markdown",
   "id": "fb49fe33",
   "metadata": {},
   "source": [
    "--  using LIST COMPREHENSION"
   ]
  },
  {
   "cell_type": "code",
   "execution_count": 112,
   "id": "c5607f3d",
   "metadata": {},
   "outputs": [
    {
     "name": "stdout",
     "output_type": "stream",
     "text": [
      "5\n",
      "1 2 3 4 5 \n",
      "1\n",
      "2\n",
      "3\n",
      "4\n",
      "5\n"
     ]
    }
   ],
   "source": [
    "n = int(input())\n",
    "li = [int(x) for x in input().split()]\n",
    "for ele in li:\n",
    "    print(ele)"
   ]
  },
  {
   "cell_type": "markdown",
   "id": "01fcf56a",
   "metadata": {},
   "source": [
    "## LINEAR SEARCH"
   ]
  },
  {
   "cell_type": "code",
   "execution_count": 113,
   "id": "a92ee590",
   "metadata": {},
   "outputs": [
    {
     "name": "stdout",
     "output_type": "stream",
     "text": [
      "6\n"
     ]
    }
   ],
   "source": [
    "n = int(input())"
   ]
  },
  {
   "cell_type": "code",
   "execution_count": 114,
   "id": "4f3c752a",
   "metadata": {},
   "outputs": [
    {
     "name": "stdout",
     "output_type": "stream",
     "text": [
      "2 4 7 9 10 13\n"
     ]
    }
   ],
   "source": [
    "li = [int(x) for x in input().split()]"
   ]
  },
  {
   "cell_type": "code",
   "execution_count": 115,
   "id": "90c7fff7",
   "metadata": {},
   "outputs": [
    {
     "name": "stdout",
     "output_type": "stream",
     "text": [
      "7\n"
     ]
    }
   ],
   "source": [
    "ele = int(input())"
   ]
  },
  {
   "cell_type": "code",
   "execution_count": 118,
   "id": "2ab1513a",
   "metadata": {},
   "outputs": [
    {
     "name": "stdout",
     "output_type": "stream",
     "text": [
      "index:  2\n"
     ]
    }
   ],
   "source": [
    "is_found = False\n",
    "for i in range(len(li)):\n",
    "    if ele == li[i]:\n",
    "        print('index: ', i)\n",
    "        is_found = True\n",
    "        break\n",
    "if is_found is False:\n",
    "    print(-1)"
   ]
  },
  {
   "cell_type": "markdown",
   "id": "5d355d80",
   "metadata": {},
   "source": [
    "- Linear search using function"
   ]
  },
  {
   "cell_type": "code",
   "execution_count": 121,
   "id": "f1b27938",
   "metadata": {},
   "outputs": [
    {
     "name": "stdout",
     "output_type": "stream",
     "text": [
      "index:  3\n"
     ]
    }
   ],
   "source": [
    "def linear_search(li,ele):\n",
    "    for i in range(len(li)):\n",
    "        if ele == li[i]:\n",
    "            return i\n",
    "    return -1\n",
    "\n",
    "li = [1,2,3,6,7,8]\n",
    "ele = 6\n",
    "index = linear_search(li,ele)\n",
    "print('index: ',index)"
   ]
  },
  {
   "cell_type": "markdown",
   "id": "a68ae9ce",
   "metadata": {},
   "source": [
    "## Mutable and Immutable"
   ]
  },
  {
   "cell_type": "markdown",
   "id": "a9c6261f",
   "metadata": {},
   "source": [
    "- variable are IMMUTABLE"
   ]
  },
  {
   "cell_type": "code",
   "execution_count": null,
   "id": "e36cc8d6",
   "metadata": {},
   "outputs": [],
   "source": []
  },
  {
   "cell_type": "code",
   "execution_count": null,
   "id": "0b136d26",
   "metadata": {},
   "outputs": [],
   "source": []
  },
  {
   "cell_type": "markdown",
   "id": "88231cf6",
   "metadata": {},
   "source": [
    "## Passing VARIABLE through function"
   ]
  },
  {
   "cell_type": "code",
   "execution_count": 122,
   "id": "5217b63e",
   "metadata": {},
   "outputs": [
    {
     "name": "stdout",
     "output_type": "stream",
     "text": [
      "2\n"
     ]
    }
   ],
   "source": [
    "def increment(a):\n",
    "    a = a + 2\n",
    "    return\n",
    "\n",
    "a = 2\n",
    "increment(a)\n",
    "print(a)"
   ]
  },
  {
   "cell_type": "code",
   "execution_count": 124,
   "id": "b2e02545",
   "metadata": {},
   "outputs": [
    {
     "name": "stdout",
     "output_type": "stream",
     "text": [
      "2\n"
     ]
    }
   ],
   "source": [
    "def increment(a):\n",
    "    a = a + 2\n",
    "    return a     ##### see here, changes made\n",
    "\n",
    "a = 2\n",
    "increment(a)  #### returning 'a', but not storing it\n",
    "print(a)"
   ]
  },
  {
   "cell_type": "code",
   "execution_count": 125,
   "id": "4ba4b37f",
   "metadata": {},
   "outputs": [
    {
     "name": "stdout",
     "output_type": "stream",
     "text": [
      "4\n"
     ]
    }
   ],
   "source": [
    "def increment(a):\n",
    "    a = a + 2\n",
    "    return a     ##### see here, changes made\n",
    "\n",
    "a = 2\n",
    "a = increment(a)  #### returning 'a',and storing it\n",
    "print(a)"
   ]
  },
  {
   "cell_type": "markdown",
   "id": "3091bc36",
   "metadata": {},
   "source": [
    "## passing LIST through function"
   ]
  },
  {
   "cell_type": "markdown",
   "id": "fd516653",
   "metadata": {},
   "source": [
    "- Lists are Mutable"
   ]
  },
  {
   "cell_type": "code",
   "execution_count": 126,
   "id": "659c3a2f",
   "metadata": {},
   "outputs": [
    {
     "name": "stdout",
     "output_type": "stream",
     "text": [
      "[3, 2, 3, 4]\n"
     ]
    }
   ],
   "source": [
    "def increment(li):\n",
    "    li[0] = li[0] + 2\n",
    "    return\n",
    "\n",
    "li = [1,2,3,4]\n",
    "increment(li)\n",
    "print(li)"
   ]
  },
  {
   "cell_type": "code",
   "execution_count": 127,
   "id": "d9a52f5b",
   "metadata": {},
   "outputs": [
    {
     "name": "stdout",
     "output_type": "stream",
     "text": [
      "[1, 2, 3, 4]\n"
     ]
    }
   ],
   "source": [
    "def increment(li):\n",
    "    li = [3,3,4]\n",
    "    return\n",
    "\n",
    "li = [1,2,3,4]\n",
    "increment(li)\n",
    "print(li)"
   ]
  },
  {
   "cell_type": "code",
   "execution_count": 128,
   "id": "e6fef16c",
   "metadata": {},
   "outputs": [
    {
     "name": "stdout",
     "output_type": "stream",
     "text": [
      "[1, 2, 3, 4]\n"
     ]
    }
   ],
   "source": [
    "def increment(li):\n",
    "    li = [3,3,4]\n",
    "    return li\n",
    "\n",
    "li = [1,2,3,4]\n",
    "increment(li)\n",
    "print(li)"
   ]
  },
  {
   "cell_type": "code",
   "execution_count": 129,
   "id": "7004156c",
   "metadata": {},
   "outputs": [
    {
     "name": "stdout",
     "output_type": "stream",
     "text": [
      "[3, 3, 4]\n"
     ]
    }
   ],
   "source": [
    "def increment(li):\n",
    "    li = [3,3,4]\n",
    "    return li\n",
    "\n",
    "li = [1,2,3,4]\n",
    "li = increment(li)\n",
    "print(li)"
   ]
  },
  {
   "cell_type": "markdown",
   "id": "1ca10135",
   "metadata": {},
   "source": [
    "## Reverse a List"
   ]
  },
  {
   "cell_type": "markdown",
   "id": "4e3959e8",
   "metadata": {},
   "source": [
    "- reverse a List using Function"
   ]
  },
  {
   "cell_type": "code",
   "execution_count": 130,
   "id": "c52e80de",
   "metadata": {},
   "outputs": [
    {
     "name": "stdout",
     "output_type": "stream",
     "text": [
      "[7, 6, 5, 4, 3, 2, 1]\n"
     ]
    }
   ],
   "source": [
    "def reverse_list(li):\n",
    "    length = len(li)\n",
    "    for i in range(length//2):\n",
    "        li[i],li[length-1-i] = li[length-1-i],li[i]\n",
    "\n",
    "li = [1,2,3,4,5,6,7]\n",
    "reverse_list(li)\n",
    "print(li)"
   ]
  },
  {
   "cell_type": "markdown",
   "id": "91b1ac2c",
   "metadata": {},
   "source": [
    "- reverse a List using Function [ Negative indexing ]"
   ]
  },
  {
   "cell_type": "code",
   "execution_count": 131,
   "id": "719eabf5",
   "metadata": {},
   "outputs": [
    {
     "name": "stdout",
     "output_type": "stream",
     "text": [
      "[7, 6, 5, 4, 3, 2, 1]\n"
     ]
    }
   ],
   "source": [
    "def reverse_list(li):\n",
    "    length = len(li)\n",
    "    for i in range(length//2):\n",
    "        li[i],li[-i-1] = li[-i-1],li[i]\n",
    "\n",
    "li = [1,2,3,4,5,6,7]\n",
    "reverse_list(li)\n",
    "print(li)"
   ]
  },
  {
   "cell_type": "markdown",
   "id": "f916b1a2",
   "metadata": {},
   "source": [
    "- reversing a List in 1 line"
   ]
  },
  {
   "cell_type": "code",
   "execution_count": 133,
   "id": "54133ce0",
   "metadata": {},
   "outputs": [],
   "source": [
    "li = [1,2,3,4,5,6,7]"
   ]
  },
  {
   "cell_type": "code",
   "execution_count": 134,
   "id": "9ee8eee2",
   "metadata": {},
   "outputs": [
    {
     "name": "stdout",
     "output_type": "stream",
     "text": [
      "[7, 6, 5, 4, 3, 2, 1]\n"
     ]
    }
   ],
   "source": [
    "print(li[::-1])"
   ]
  },
  {
   "cell_type": "markdown",
   "id": "f384e403",
   "metadata": {},
   "source": [
    "## Searching and Sorting"
   ]
  },
  {
   "cell_type": "markdown",
   "id": "c2eb490c",
   "metadata": {},
   "source": [
    "### Binary Search"
   ]
  },
  {
   "cell_type": "markdown",
   "id": "754e7b52",
   "metadata": {},
   "source": [
    "- works only on sorted array"
   ]
  },
  {
   "cell_type": "code",
   "execution_count": 139,
   "id": "fa896950",
   "metadata": {},
   "outputs": [
    {
     "name": "stdout",
     "output_type": "stream",
     "text": [
      "1\n"
     ]
    }
   ],
   "source": [
    "def binary_search(arr,element):\n",
    "    start = 0\n",
    "    end = len(arr)-1\n",
    "    \n",
    "    while(start<=end):\n",
    "        mid = start + end // 2\n",
    "        if(arr[mid] == element):\n",
    "            return mid\n",
    "        elif(arr[mid] < element):\n",
    "            start = mid + 1\n",
    "        else:\n",
    "            end = mid - 1\n",
    "    return -1\n",
    "            \n",
    "arr = [1,3,8,9,11,13,70,89,98]\n",
    "index = binary_search(arr,3)\n",
    "print(index)"
   ]
  },
  {
   "cell_type": "markdown",
   "id": "3e989ba7",
   "metadata": {},
   "source": [
    "### Selection Sort"
   ]
  },
  {
   "cell_type": "code",
   "execution_count": 143,
   "id": "2a872cfe",
   "metadata": {},
   "outputs": [
    {
     "name": "stdout",
     "output_type": "stream",
     "text": [
      "[0, 1, 2, 3, 4, 7, 6, 8]\n"
     ]
    }
   ],
   "source": [
    "def selection_sort(arr):\n",
    "    length = len(arr)\n",
    "    for i in range(length-1):\n",
    "        min_index = i\n",
    "        for j in range(i+1,length):\n",
    "            if(arr[j] < arr[min_index]):\n",
    "                min_index = j\n",
    "#                 arr[i],arr[min_index] = arr[min_index],arr[i]\n",
    "        arr[i],arr[min_index] = arr[min_index],arr[i] #### PROBLEM\n",
    "\n",
    "arr = [1,3,7,2,4,0,6,8]\n",
    "selection_sort(arr)\n",
    "print(arr)"
   ]
  },
  {
   "cell_type": "markdown",
   "id": "bef60763",
   "metadata": {},
   "source": [
    "### Bubble Sort"
   ]
  },
  {
   "cell_type": "code",
   "execution_count": 145,
   "id": "0a68de14",
   "metadata": {},
   "outputs": [
    {
     "name": "stdout",
     "output_type": "stream",
     "text": [
      "[1, 2, 3, 4, 6, 8]\n"
     ]
    }
   ],
   "source": [
    "def bubble_sort(arr):\n",
    "    length = len(arr)\n",
    "    for i in range(length-1):\n",
    "        for j in range(length-i-1):\n",
    "            if arr[j] > arr[j+1]:\n",
    "                arr[j],arr[j+1] = arr[j+1],arr[j]\n",
    "\n",
    "\n",
    "arr = [6,4,8,3,1,2]\n",
    "bubble_sort(arr)\n",
    "print(arr)"
   ]
  },
  {
   "cell_type": "markdown",
   "id": "0b593733",
   "metadata": {},
   "source": [
    "### Insertion sort"
   ]
  },
  {
   "cell_type": "code",
   "execution_count": null,
   "id": "291fbfb7",
   "metadata": {},
   "outputs": [],
   "source": []
  },
  {
   "cell_type": "markdown",
   "id": "29fc9cc5",
   "metadata": {},
   "source": [
    "### Merge Two Sorted Array"
   ]
  },
  {
   "cell_type": "code",
   "execution_count": null,
   "id": "46ed8d3f",
   "metadata": {},
   "outputs": [],
   "source": []
  },
  {
   "cell_type": "markdown",
   "id": "a6865357",
   "metadata": {},
   "source": [
    "## STRINGS"
   ]
  },
  {
   "cell_type": "markdown",
   "id": "cfcce8cc",
   "metadata": {},
   "source": [
    "- a sequence of characters , string = ' Parikh '\n",
    "- A sequence of unicodes\n",
    "- indexing starts from 0\n",
    "- string are IMMUTABLE"
   ]
  },
  {
   "cell_type": "markdown",
   "id": "d06d3cd2",
   "metadata": {},
   "source": [
    "#### Acessing elements in a string"
   ]
  },
  {
   "cell_type": "code",
   "execution_count": 146,
   "id": "bf17e720",
   "metadata": {},
   "outputs": [],
   "source": [
    "s = 'Nipun'"
   ]
  },
  {
   "cell_type": "code",
   "execution_count": 149,
   "id": "3ed5f4a5",
   "metadata": {},
   "outputs": [
    {
     "name": "stdout",
     "output_type": "stream",
     "text": [
      "N\n",
      "i\n",
      "n\n"
     ]
    }
   ],
   "source": [
    "print(s[0])\n",
    "print(s[1])\n",
    "\n",
    "print(s[-1])"
   ]
  },
  {
   "cell_type": "markdown",
   "id": "fb69848c",
   "metadata": {},
   "source": [
    "#### How strings are stored"
   ]
  },
  {
   "cell_type": "code",
   "execution_count": 151,
   "id": "7d21ac4e",
   "metadata": {},
   "outputs": [],
   "source": [
    "s = 'Parikh'"
   ]
  },
  {
   "cell_type": "code",
   "execution_count": 154,
   "id": "261b05ce",
   "metadata": {},
   "outputs": [
    {
     "name": "stdout",
     "output_type": "stream",
     "text": [
      "2806800829296\n",
      "Parikh\n"
     ]
    }
   ],
   "source": [
    "print(id(s))\n",
    "print(s)"
   ]
  },
  {
   "cell_type": "code",
   "execution_count": 153,
   "id": "a654d6c0",
   "metadata": {},
   "outputs": [],
   "source": [
    "a = 'Rohan'"
   ]
  },
  {
   "cell_type": "code",
   "execution_count": 155,
   "id": "dfe59a07",
   "metadata": {},
   "outputs": [
    {
     "name": "stdout",
     "output_type": "stream",
     "text": [
      "2806800982064\n",
      "Rohan\n"
     ]
    }
   ],
   "source": [
    "print(id(a))\n",
    "print(a)"
   ]
  },
  {
   "cell_type": "code",
   "execution_count": 156,
   "id": "0fd02e8d",
   "metadata": {},
   "outputs": [],
   "source": [
    "a = 'Parikh'"
   ]
  },
  {
   "cell_type": "code",
   "execution_count": 157,
   "id": "88914f26",
   "metadata": {},
   "outputs": [
    {
     "name": "stdout",
     "output_type": "stream",
     "text": [
      "2806800829296\n",
      "2806800829296\n"
     ]
    }
   ],
   "source": [
    "print(id(a))\n",
    "print(id(s))"
   ]
  },
  {
   "cell_type": "markdown",
   "id": "f840d9c0",
   "metadata": {},
   "source": [
    "#### Strings are Immutable"
   ]
  },
  {
   "cell_type": "code",
   "execution_count": null,
   "id": "b6e188f2",
   "metadata": {},
   "outputs": [],
   "source": []
  },
  {
   "cell_type": "markdown",
   "id": "add19690",
   "metadata": {},
   "source": [
    "#### Concatenation of strings"
   ]
  },
  {
   "cell_type": "code",
   "execution_count": null,
   "id": "b6235086",
   "metadata": {},
   "outputs": [],
   "source": []
  },
  {
   "cell_type": "markdown",
   "id": "39b29eb7",
   "metadata": {},
   "source": [
    "#### slicing of strings"
   ]
  },
  {
   "cell_type": "code",
   "execution_count": null,
   "id": "79432a97",
   "metadata": {},
   "outputs": [],
   "source": []
  },
  {
   "cell_type": "markdown",
   "id": "cf9c4a69",
   "metadata": {},
   "source": [
    "#### Iteration on string"
   ]
  },
  {
   "cell_type": "markdown",
   "id": "3d939f36",
   "metadata": {},
   "source": [
    "- method 1"
   ]
  },
  {
   "cell_type": "code",
   "execution_count": 158,
   "id": "cf0d10b2",
   "metadata": {},
   "outputs": [],
   "source": [
    "str = \"Hello World\""
   ]
  },
  {
   "cell_type": "code",
   "execution_count": 159,
   "id": "f05e114e",
   "metadata": {},
   "outputs": [
    {
     "name": "stdout",
     "output_type": "stream",
     "text": [
      "3\n"
     ]
    }
   ],
   "source": [
    "count = 0\n",
    "for letter in str:\n",
    "    if(letter == 'l'):\n",
    "        count = count + 1\n",
    "print(count)"
   ]
  },
  {
   "cell_type": "markdown",
   "id": "89d16532",
   "metadata": {},
   "source": [
    "- method - 2"
   ]
  },
  {
   "cell_type": "code",
   "execution_count": 160,
   "id": "e5ab23b7",
   "metadata": {},
   "outputs": [],
   "source": [
    "str = \"Hello World\""
   ]
  },
  {
   "cell_type": "code",
   "execution_count": 161,
   "id": "8c998538",
   "metadata": {},
   "outputs": [
    {
     "name": "stdout",
     "output_type": "stream",
     "text": [
      "3\n"
     ]
    }
   ],
   "source": [
    "count = 0\n",
    "for i in range(len(str)):\n",
    "    if(str[i] == 'l'):\n",
    "        count = count + 1\n",
    "print(count)"
   ]
  },
  {
   "cell_type": "markdown",
   "id": "f39e1fe5",
   "metadata": {},
   "source": [
    "#### 'in' and 'notin' operation on string"
   ]
  },
  {
   "cell_type": "code",
   "execution_count": null,
   "id": "3067be36",
   "metadata": {},
   "outputs": [],
   "source": []
  },
  {
   "cell_type": "markdown",
   "id": "e7c7ef1d",
   "metadata": {},
   "source": [
    "#### comparison operators on string"
   ]
  },
  {
   "cell_type": "code",
   "execution_count": null,
   "id": "99710cad",
   "metadata": {},
   "outputs": [],
   "source": []
  },
  {
   "cell_type": "markdown",
   "id": "68eabd02",
   "metadata": {},
   "source": [
    "#### Operations on string"
   ]
  },
  {
   "cell_type": "code",
   "execution_count": null,
   "id": "c688a6bb",
   "metadata": {},
   "outputs": [],
   "source": []
  },
  {
   "cell_type": "markdown",
   "id": "4c78b7dc",
   "metadata": {},
   "source": [
    "- 1. SPLIT function"
   ]
  },
  {
   "cell_type": "code",
   "execution_count": null,
   "id": "97c1d219",
   "metadata": {},
   "outputs": [],
   "source": []
  },
  {
   "cell_type": "markdown",
   "id": "2dd2ae9a",
   "metadata": {},
   "source": [
    "- 2.REPLACE function"
   ]
  },
  {
   "cell_type": "code",
   "execution_count": null,
   "id": "3cc5df41",
   "metadata": {},
   "outputs": [],
   "source": []
  },
  {
   "cell_type": "markdown",
   "id": "038982de",
   "metadata": {},
   "source": [
    "- 3.FIND function"
   ]
  },
  {
   "cell_type": "code",
   "execution_count": null,
   "id": "68c4064a",
   "metadata": {},
   "outputs": [],
   "source": []
  },
  {
   "cell_type": "markdown",
   "id": "9aacd739",
   "metadata": {},
   "source": [
    "- 4.LOWER and UPPER function"
   ]
  },
  {
   "cell_type": "code",
   "execution_count": null,
   "id": "72cd0418",
   "metadata": {},
   "outputs": [],
   "source": []
  },
  {
   "cell_type": "markdown",
   "id": "c84e8120",
   "metadata": {},
   "source": [
    "- 5.STARTSWITH function"
   ]
  },
  {
   "cell_type": "code",
   "execution_count": null,
   "id": "c56af186",
   "metadata": {},
   "outputs": [],
   "source": []
  },
  {
   "cell_type": "markdown",
   "id": "dc9fcc9c",
   "metadata": {},
   "source": [
    "#### Replace character in a string"
   ]
  },
  {
   "cell_type": "markdown",
   "id": "e04b8a1d",
   "metadata": {},
   "source": [
    "- we cannot make changes in a string, as strings are IMMUTABLE\n",
    "- we have to create a new string"
   ]
  },
  {
   "cell_type": "code",
   "execution_count": null,
   "id": "ec933e53",
   "metadata": {},
   "outputs": [],
   "source": []
  },
  {
   "cell_type": "code",
   "execution_count": 165,
   "id": "d8f9d904",
   "metadata": {},
   "outputs": [
    {
     "name": "stdout",
     "output_type": "stream",
     "text": [
      "zipuz\n"
     ]
    }
   ],
   "source": [
    "def replace(str,char1,char2):\n",
    "    new_str = ''\n",
    "    for char in str:\n",
    "        if(char == char1):\n",
    "            new_str = new_str + char2\n",
    "        else:\n",
    "            new_str = new_str + char\n",
    "    return new_str\n",
    "\n",
    "str = 'nipun'\n",
    "str = replace(str,'n','z')\n",
    "print(str)"
   ]
  },
  {
   "cell_type": "markdown",
   "id": "2bec110c",
   "metadata": {},
   "source": [
    "## 2D LISTS"
   ]
  },
  {
   "cell_type": "markdown",
   "id": "9201fc04",
   "metadata": {},
   "source": [
    "#### accessing elements in 2D list"
   ]
  },
  {
   "cell_type": "code",
   "execution_count": 166,
   "id": "51c02617",
   "metadata": {},
   "outputs": [],
   "source": [
    "li = [[1,2,3,4],[5,6,7,8],[9,10,11,12],[13,14,15,16]]"
   ]
  },
  {
   "cell_type": "code",
   "execution_count": 170,
   "id": "4a384176",
   "metadata": {},
   "outputs": [
    {
     "name": "stdout",
     "output_type": "stream",
     "text": [
      "1\n",
      "6\n",
      "11\n",
      "16\n"
     ]
    }
   ],
   "source": [
    "print(li[0][0])\n",
    "print(li[1][1])\n",
    "print(li[2][2])\n",
    "print(li[3][3])\n",
    "# print(li[4][4])"
   ]
  },
  {
   "cell_type": "markdown",
   "id": "b9c7b1bc",
   "metadata": {},
   "source": [
    "#### How 2D lists are stored"
   ]
  },
  {
   "cell_type": "code",
   "execution_count": null,
   "id": "f4256257",
   "metadata": {},
   "outputs": [],
   "source": []
  },
  {
   "cell_type": "markdown",
   "id": "f20e7e05",
   "metadata": {},
   "source": [
    "#### Jagged List"
   ]
  },
  {
   "cell_type": "code",
   "execution_count": null,
   "id": "0a7ea6d9",
   "metadata": {},
   "outputs": [],
   "source": []
  },
  {
   "cell_type": "markdown",
   "id": "cec8dd59",
   "metadata": {},
   "source": [
    "### List Comprehension"
   ]
  },
  {
   "cell_type": "code",
   "execution_count": null,
   "id": "45007f75",
   "metadata": {},
   "outputs": [],
   "source": []
  },
  {
   "cell_type": "markdown",
   "id": "eb56c88b",
   "metadata": {},
   "source": [
    "#### Input in 2D list"
   ]
  },
  {
   "cell_type": "markdown",
   "id": "75fd01c4",
   "metadata": {},
   "source": [
    "- method 1"
   ]
  },
  {
   "cell_type": "markdown",
   "id": "5f046209",
   "metadata": {},
   "source": [
    "- method 2"
   ]
  },
  {
   "cell_type": "markdown",
   "id": "60dc65bf",
   "metadata": {},
   "source": [
    "#### Input of Jagged list"
   ]
  },
  {
   "cell_type": "code",
   "execution_count": null,
   "id": "4c86bcea",
   "metadata": {},
   "outputs": [],
   "source": []
  },
  {
   "cell_type": "markdown",
   "id": "9e5eb798",
   "metadata": {},
   "source": [
    "#### printing 2D list"
   ]
  },
  {
   "cell_type": "code",
   "execution_count": null,
   "id": "3c41bdf1",
   "metadata": {},
   "outputs": [],
   "source": []
  },
  {
   "cell_type": "markdown",
   "id": "70d17426",
   "metadata": {},
   "source": [
    "#### Printing Jagged 2D list"
   ]
  },
  {
   "cell_type": "code",
   "execution_count": null,
   "id": "dff0acf3",
   "metadata": {},
   "outputs": [],
   "source": []
  },
  {
   "cell_type": "markdown",
   "id": "fc4bb625",
   "metadata": {},
   "source": [
    "## TUPLES"
   ]
  },
  {
   "cell_type": "code",
   "execution_count": null,
   "id": "a659afcc",
   "metadata": {},
   "outputs": [],
   "source": []
  },
  {
   "cell_type": "code",
   "execution_count": null,
   "id": "470c4d97",
   "metadata": {},
   "outputs": [],
   "source": []
  },
  {
   "cell_type": "code",
   "execution_count": null,
   "id": "77376263",
   "metadata": {},
   "outputs": [],
   "source": []
  },
  {
   "cell_type": "code",
   "execution_count": null,
   "id": "2cbd97ec",
   "metadata": {},
   "outputs": [],
   "source": []
  },
  {
   "cell_type": "code",
   "execution_count": null,
   "id": "9ada47a3",
   "metadata": {},
   "outputs": [],
   "source": []
  },
  {
   "cell_type": "markdown",
   "id": "c5111184",
   "metadata": {},
   "source": [
    "## DICTIONARIES"
   ]
  },
  {
   "cell_type": "code",
   "execution_count": null,
   "id": "566a0866",
   "metadata": {},
   "outputs": [],
   "source": []
  },
  {
   "cell_type": "markdown",
   "id": "576bd7b3",
   "metadata": {},
   "source": [
    "# Decorator"
   ]
  },
  {
   "attachments": {
    "1.PNG": {
     "image/png": "[encoded data removed]"
    }
   },
   "cell_type": "markdown",
   "id": "b007dd0d",
   "metadata": {},
   "source": [
    "![1.PNG](attachment:1.PNG)"
   ]
  },
  {
   "cell_type": "code",
   "execution_count": 2,
   "id": "fb847f1b",
   "metadata": {},
   "outputs": [
    {
     "name": "stdout",
     "output_type": "stream",
     "text": [
      "we will use this func\n",
      "we will enhance this in decorator\n"
     ]
    }
   ],
   "source": [
    "def num():\n",
    "    print(\"we will use this func\")\n",
    "    print(\"we will enhance this in decorator\")\n",
    "num()"
   ]
  },
  {
   "cell_type": "code",
   "execution_count": 3,
   "id": "b2d4e0f9",
   "metadata": {},
   "outputs": [
    {
     "name": "stdout",
     "output_type": "stream",
     "text": [
      "IF: Before enhancing Function\n",
      "we will use this func\n",
      "we will enhance this in decorator\n",
      "IF: After enhancing Function\n"
     ]
    }
   ],
   "source": [
    "# using deorator \n",
    "def decor(fun):\n",
    "    def inner():\n",
    "        print(\"IF: Before enhancing Function\")\n",
    "        fun()\n",
    "        print(\"IF: After enhancing Function\")\n",
    "    return inner\n",
    "    \n",
    "def num():\n",
    "    print(\"we will use this func\")\n",
    "    print(\"we will enhance this in decorator\")\n",
    "    \n",
    "result_func = decor(num)\n",
    "result_func()"
   ]
  },
  {
   "cell_type": "code",
   "execution_count": 4,
   "id": "8552b9e4",
   "metadata": {},
   "outputs": [
    {
     "name": "stdout",
     "output_type": "stream",
     "text": [
      "IF: Before enhancing Function\n",
      "we will use this func\n",
      "we will enhance this in decorator\n",
      "IF: After enhancing Function\n"
     ]
    }
   ],
   "source": [
    "# using deorator \n",
    "def decor(num):\n",
    "    def inner():\n",
    "        print(\"IF: Before enhancing Function\")\n",
    "        num()\n",
    "        print(\"IF: After enhancing Function\")\n",
    "    return inner\n",
    "    \n",
    "def num():\n",
    "    print(\"we will use this func\")\n",
    "    print(\"we will enhance this in decorator\")\n",
    "    \n",
    "num = decor(num)\n",
    "num()"
   ]
  },
  {
   "cell_type": "code",
   "execution_count": 6,
   "id": "76dae64a",
   "metadata": {},
   "outputs": [
    {
     "name": "stdout",
     "output_type": "stream",
     "text": [
      "IF: Before enhancing Function\n",
      "we will use this func\n",
      "we will enhance this in decorator\n",
      "IF: After enhancing Function\n"
     ]
    }
   ],
   "source": [
    "# using deorator \n",
    "def decor(num):\n",
    "    def inner():\n",
    "        print(\"IF: Before enhancing Function\")\n",
    "        num()\n",
    "        print(\"IF: After enhancing Function\")\n",
    "    return inner\n",
    "\n",
    "@decor\n",
    "def num():\n",
    "    print(\"we will use this func\")\n",
    "    print(\"we will enhance this in decorator\")\n",
    "    \n",
    "num()"
   ]
  },
  {
   "cell_type": "code",
   "execution_count": 7,
   "id": "2943829f",
   "metadata": {},
   "outputs": [
    {
     "name": "stdout",
     "output_type": "stream",
     "text": [
      "15\n"
     ]
    }
   ],
   "source": [
    "# Another Example\n",
    "def decor(fun):\n",
    "    def inner():\n",
    "        a = fun()\n",
    "        add = a + 5\n",
    "        return add\n",
    "    return inner\n",
    "\n",
    "def num(): # want to enhance this function w/o changing it so will use decorator\n",
    "    return 10\n",
    "\n",
    "result_func = decor(num)\n",
    "print(result_func())"
   ]
  },
  {
   "cell_type": "code",
   "execution_count": 8,
   "id": "964931a4",
   "metadata": {},
   "outputs": [
    {
     "name": "stdout",
     "output_type": "stream",
     "text": [
      "15\n"
     ]
    }
   ],
   "source": [
    "# Another Example\n",
    "def decor(num):\n",
    "    def inner():\n",
    "        a = num()\n",
    "        add = a + 5\n",
    "        return add\n",
    "    return inner\n",
    "\n",
    "def num(): # want to enhance this function w/o changing it so will use decorator\n",
    "    return 10\n",
    "\n",
    "num = decor(num)\n",
    "print(num())"
   ]
  },
  {
   "cell_type": "code",
   "execution_count": 9,
   "id": "f6f22e43",
   "metadata": {},
   "outputs": [
    {
     "name": "stdout",
     "output_type": "stream",
     "text": [
      "15\n"
     ]
    }
   ],
   "source": [
    "# Another Example\n",
    "def decor(num):\n",
    "    def inner():\n",
    "        a = num()\n",
    "        add = a + 5\n",
    "        return add\n",
    "    return inner\n",
    "@decor\n",
    "def num(): # want to enhance this function w/o changing it so will use decorator\n",
    "    return 10\n",
    "\n",
    "print(num())"
   ]
  },
  {
   "cell_type": "code",
   "execution_count": 10,
   "id": "0caff4b6",
   "metadata": {},
   "outputs": [
    {
     "name": "stdout",
     "output_type": "stream",
     "text": [
      "55\n"
     ]
    }
   ],
   "source": [
    "# Enhancing a function 2 times and can be enhanced as many times we want\n",
    "\n",
    "def decor1(num):\n",
    "    def inner():\n",
    "        b = num()\n",
    "        multi = b * 5\n",
    "        return multi\n",
    "    return inner\n",
    "\n",
    "def decor(num):\n",
    "    def inner():\n",
    "        a = num()\n",
    "        add = a + 5\n",
    "        return add\n",
    "    return inner\n",
    "\n",
    "def num(): \n",
    "    return 10\n",
    "\n",
    "num = decor(decor1(num))\n",
    "print(num())"
   ]
  },
  {
   "cell_type": "code",
   "execution_count": 11,
   "id": "9acc5ea8",
   "metadata": {},
   "outputs": [
    {
     "name": "stdout",
     "output_type": "stream",
     "text": [
      "55\n"
     ]
    }
   ],
   "source": [
    "# Enhancing a function 2 times and can be enhanced as many times we want\n",
    "\n",
    "def decor1(num):\n",
    "    def inner():\n",
    "        b = num()\n",
    "        multi = b * 5\n",
    "        return multi\n",
    "    return inner\n",
    "\n",
    "def decor(num):\n",
    "    def inner():\n",
    "        a = num()\n",
    "        add = a + 5\n",
    "        return add\n",
    "    return inner\n",
    "@decor\n",
    "@decor1\n",
    "def num(): \n",
    "    return 10\n",
    "\n",
    "print(num())"
   ]
  },
  {
   "cell_type": "code",
   "execution_count": null,
   "id": "209191be",
   "metadata": {},
   "outputs": [],
   "source": []
  },
  {
   "cell_type": "code",
   "execution_count": null,
   "id": "7d1b8d29",
   "metadata": {},
   "outputs": [],
   "source": []
  },
  {
   "cell_type": "code",
   "execution_count": null,
   "id": "ce5ff702",
   "metadata": {},
   "outputs": [],
   "source": []
  },
  {
   "cell_type": "markdown",
   "id": "f1f49494",
   "metadata": {},
   "source": [
    "# Time complexity analysis"
   ]
  },
  {
   "cell_type": "markdown",
   "id": "307e66eb",
   "metadata": {},
   "source": [
    "# Space complexity analysis"
   ]
  },
  {
   "cell_type": "markdown",
   "id": "1f42df9f",
   "metadata": {},
   "source": [
    "# Time complexity improvement"
   ]
  },
  {
   "cell_type": "markdown",
   "id": "e6d40387",
   "metadata": {},
   "source": [
    "# Linked List"
   ]
  },
  {
   "cell_type": "markdown",
   "id": "2e482cc3",
   "metadata": {},
   "source": [
    "# Stack"
   ]
  },
  {
   "cell_type": "markdown",
   "id": "eacc6bff",
   "metadata": {},
   "source": [
    "# Queue"
   ]
  },
  {
   "cell_type": "markdown",
   "id": "652a094f",
   "metadata": {},
   "source": [
    "# Binary tree"
   ]
  },
  {
   "cell_type": "markdown",
   "id": "1d2c921c",
   "metadata": {},
   "source": [
    "# BST"
   ]
  },
  {
   "cell_type": "markdown",
   "id": "dc5102e5",
   "metadata": {},
   "source": [
    "# Generic trees"
   ]
  },
  {
   "cell_type": "markdown",
   "id": "7d9012af",
   "metadata": {},
   "source": [
    "# Dictionaries maps"
   ]
  },
  {
   "cell_type": "markdown",
   "id": "d65b65bc",
   "metadata": {},
   "source": [
    "# Priority Queue"
   ]
  },
  {
   "cell_type": "markdown",
   "id": "77d27e6a",
   "metadata": {},
   "source": [
    "# Huffman coding"
   ]
  },
  {
   "cell_type": "markdown",
   "id": "00a528a0",
   "metadata": {},
   "source": [
    "# Dynamic Programming"
   ]
  },
  {
   "cell_type": "markdown",
   "id": "d276ac3b",
   "metadata": {},
   "source": [
    "# Backtracking"
   ]
  },
  {
   "cell_type": "markdown",
   "id": "2d8f4d37",
   "metadata": {},
   "source": [
    "# Graph"
   ]
  },
  {
   "cell_type": "code",
   "execution_count": 1,
   "id": "29fc04a8",
   "metadata": {},
   "outputs": [],
   "source": []
  },
  {
   "cell_type": "code",
   "execution_count": null,
   "id": "79726d8c",
   "metadata": {},
   "outputs": [],
   "source": []
  },
  {
   "cell_type": "markdown",
   "id": "e61de313",
   "metadata": {},
   "source": [
    "# IterTools"
   ]
  },
  {
   "cell_type": "markdown",
   "id": "667710e3",
   "metadata": {},
   "source": [
    "### itertools.product()"
   ]
  },
  {
   "cell_type": "markdown",
   "id": "1c9bf3fc",
   "metadata": {},
   "source": [
    "- https://medium.com/@harshnative/cartesian-product-in-python-with-and-without-itertools-product-function-8df9048ea8c5\n",
    "- https://www.blog.letscodeofficial.com/@harshnative/cartesian-product-in-python-with-and-without-itertoolsproduct-function/"
   ]
  },
  {
   "cell_type": "code",
   "execution_count": null,
   "id": "86c5fdd2",
   "metadata": {},
   "outputs": [],
   "source": []
  },
  {
   "cell_type": "code",
   "execution_count": null,
   "id": "da7789b9",
   "metadata": {},
   "outputs": [],
   "source": []
  },
  {
   "cell_type": "markdown",
   "id": "1ddc046c",
   "metadata": {},
   "source": [
    "# Defaultdict"
   ]
  },
  {
   "cell_type": "markdown",
   "id": "ef4961cf",
   "metadata": {},
   "source": [
    "# read about python collection module"
   ]
  },
  {
   "cell_type": "markdown",
   "id": "36546e6d",
   "metadata": {},
   "source": [
    "# collections.namedtuple()"
   ]
  },
  {
   "cell_type": "code",
   "execution_count": null,
   "id": "4c1475f0",
   "metadata": {},
   "outputs": [],
   "source": []
  },
  {
   "cell_type": "code",
   "execution_count": null,
   "id": "72608737",
   "metadata": {},
   "outputs": [],
   "source": []
  },
  {
   "cell_type": "code",
   "execution_count": 8,
   "id": "8e8f97fe",
   "metadata": {},
   "outputs": [
    {
     "name": "stdout",
     "output_type": "stream",
     "text": [
      "True\n"
     ]
    }
   ],
   "source": [
    "str1 = 'h3llo'\n",
    "str2 = 'coder'\n",
    "\n",
    "li = list(str1)\n",
    "# print(li)\n",
    "\n",
    "check = True\n",
    "for i in range(len(str2)):\n",
    "    if str2[i] not in li:\n",
    "        check = False\n",
    "        break\n",
    "print(check)"
   ]
  },
  {
   "cell_type": "code",
   "execution_count": 17,
   "id": "36101e0a",
   "metadata": {},
   "outputs": [],
   "source": [
    "def capitalise(name):\n",
    "    name_li = list(name)\n",
    "    for i in range(len(name_li)):\n",
    "        if(i == 0):\n",
    "            name_li[0] = name_li[0].upper()\n",
    "        elif(name_li[i] == ' '):\n",
    "            name_li[i+1] = name_li[i+1].upper()\n",
    "            \n",
    "    return name_li\n",
    "\n",
    "name = \"12lison heck\"\n",
    "c = capitalise(name)"
   ]
  },
  {
   "cell_type": "code",
   "execution_count": 18,
   "id": "906aa3ec",
   "metadata": {},
   "outputs": [],
   "source": [
    "fullname = ''.join(c)"
   ]
  },
  {
   "cell_type": "code",
   "execution_count": 19,
   "id": "fddd5cfb",
   "metadata": {},
   "outputs": [
    {
     "name": "stdout",
     "output_type": "stream",
     "text": [
      "12lison Heck\n"
     ]
    }
   ],
   "source": [
    "print(fullname)"
   ]
  },
  {
   "cell_type": "raw",
   "id": "903316f5",
   "metadata": {},
   "source": [
    "Q. What are lists and tuples? What is the key difference between the two?\n",
    "Lists and Tuples are both sequence data types that can store a collection of objects in Python. The objects stored in both sequences can have different data types. Lists are represented with square brackets ['sara', 6, 0.19], while tuples are represented with parantheses ('ansh', 5, 0.97).\n",
    "But what is the real difference between the two? The key difference between the two is that while lists are mutable, tuples on the other hand are immutable objects. This means that lists can be modified, appended or sliced on the go but tuples remain constant and cannot be modified in any manner. You can run the following example on Python IDLE to confirm the difference:\n",
    "\n",
    "my_tuple = ('sara', 6, 5, 0.97)\n",
    "my_list = ['sara', 6, 5, 0.97]\n",
    "print(my_tuple[0])     # output => 'sara'\n",
    "print(my_list[0])     # output => 'sara'\n",
    "my_tuple[0] = 'ansh'    # modifying tuple => throws an error\n",
    "my_list[0] = 'ansh'    # modifying list => list modified\n",
    "print(my_tuple[0])     # output => 'sara'\n",
    "print(my_list[0])     # output => 'ansh'"
   ]
  },
  {
   "cell_type": "markdown",
   "id": "50cecfe8",
   "metadata": {},
   "source": [
    "## Q. Python Data Types\n",
    "\n",
    "Data types are the classification or categorization of data items. It represents the kind of value that tells what operations can be performed on a particular data. Since everything is an object in Python programming, data types are actually classes and variables are instance (object) of these classes.\n",
    "\n",
    "Following are the standard or built-in data type of Python:\n",
    "\n",
    "Numeric\n",
    "Sequence Type\n",
    "Boolean\n",
    "Set\n",
    "Dictionary\n",
    "Python-data-type\n",
    "\n",
    "### Numeric\n",
    "In Python, numeric data type represent the data which has numeric value. Numeric value can be integer, floating number or even complex numbers. These values are defined as int, float and complex class in Python.\n",
    "\n",
    "Integers – This value is represented by int class. It contains positive or negative whole numbers (without fraction or decimal). In Python there is no limit to how long an integer value can be.\n",
    "\n",
    "Float – This value is represented by float class. It is a real number with floating point representation. It is specified by a decimal point. Optionally, the character e or E followed by a positive or negative integer may be appended to specify scientific notation.\n",
    "\n",
    "Complex Numbers – Complex number is represented by complex class. It is specified as (real part) + (imaginary part)j. For example – 2+3j\n",
    "Note – type() function is used to determine the type of data type.\n",
    "\n",
    "\n",
    "\n",
    "### Sequence Type\n",
    "In Python, sequence is the ordered collection of similar or different data types. Sequences allows to store multiple values in an organized and efficient fashion. There are several sequence types in Python –\n",
    "\n",
    "String\n",
    "List\n",
    "Tuple\n",
    "\n",
    "#### 1) String\n",
    "In Python, Strings are arrays of bytes representing Unicode characters. A string is a collection of one or more characters put in a single quote, double-quote or triple quote. In python there is no character data type, a character is a string of length one. It is represented by str class.\n",
    " \n",
    "Creating String\n",
    "Strings in Python can be created using single quotes or double quotes or even triple quotes.\n",
    "\n",
    "Accessing elements of String\n",
    "In Python, individual characters of a String can be accessed by using the method of Indexing. Indexing allows negative address references to access characters from the back of the String, e.g. -1 refers to the last character, -2 refers to the second last character and so on.\n",
    "\n",
    "\n",
    "#### 2) List\n",
    "Lists are just like the arrays, declared in other languages which is a ordered collection of data. It is very flexible as the items in a list do not need to be of the same type.\n",
    " \n",
    "Creating List\n",
    "Lists in Python can be created by just placing the sequence inside the square brackets[].     \n",
    "\n",
    "\n",
    "#### 3) Tuple\n",
    "Just like list, tuple is also an ordered collection of Python objects. The only difference between tuple and list is that tuples are immutable i.e. tuples cannot be modified after it is created. It is represented by tuple class.\n",
    " \n",
    "\n",
    "Creating Tuple\n",
    "In Python, tuples are created by placing a sequence of values separated by ‘comma’ with or without the use of parentheses for grouping of the data sequence. Tuples can contain any number of elements and of any datatype (like strings, integers, list, etc.).\n",
    "\n",
    "Note: Tuples can also be created with a single element, but it is a bit tricky. Having one element in the parentheses is not sufficient, there must be a trailing ‘comma’ to make it a tuple.\n",
    "\n",
    "\n",
    "Python program to demonstrate creation of Set \n",
    "    \n",
    "Creating an empty tuple \n",
    "\n",
    "Tuple1 = () \n",
    "print(\"Initial empty Tuple: \") \n",
    "print (Tuple1) \n",
    "    \n",
    " Creating a Tuple with  the use of Strings\n",
    " \n",
    "Tuple1 = ('Geeks', 'For') \n",
    "print(\"\\nTuple with the use of String: \") \n",
    "print(Tuple1) \n",
    "    \n",
    "Creating a Tuple with the use of list \n",
    "\n",
    "list1 = [1, 2, 4, 5, 6] \n",
    "print(\"\\nTuple using List: \") \n",
    "print(tuple(list1)) \n",
    "  \n",
    "Creating a Tuple with the use of built-in function \n",
    "\n",
    "Tuple1 = tuple('Geeks') \n",
    "print(\"\\nTuple with the use of function: \") \n",
    "print(Tuple1) \n",
    "  \n",
    " Creating a Tuple  with nested tuples \n",
    " \n",
    "Tuple1 = (0, 1, 2, 3) \n",
    "Tuple2 = ('python', 'geek') \n",
    "Tuple3 = (Tuple1, Tuple2) \n",
    "print(\"\\nTuple with nested tuples: \") \n",
    "print(Tuple3) \n",
    "Output:\n",
    "\n",
    "Initial empty Tuple: \n",
    "()\n",
    "\n",
    "Tuple with the use of String: \n",
    "('Geeks', 'For')\n",
    "\n",
    "Tuple using List: \n",
    "(1, 2, 4, 5, 6)\n",
    "\n",
    "Tuple with the use of function: \n",
    "('G', 'e', 'e', 'k', 's')\n",
    "\n",
    "Tuple with nested tuples: \n",
    "((0, 1, 2, 3), ('python', 'geek'))\n",
    " \n",
    "\n",
    "Note – Creation of Python tuple without the use of parentheses is known as Tuple Packing.\n",
    "\n",
    "Accessing elements of Tuple\n",
    "In order to access the tuple items refer to the index number. Use the index operator [ ] to access an item in a tuple. The index must be an integer. Nested tuples are accessed using nested indexing.\n",
    "\n",
    "\n",
    "# Python program to \n",
    "# demonstrate accessing tuple\n",
    "  \n",
    "tuple1 = tuple([1, 2, 3, 4, 5])\n",
    "  \n",
    "# Accessing element using indexing\n",
    "print(\"First element of tuple\")\n",
    "print(tuple1[0])\n",
    "  \n",
    "# Accessing element from last\n",
    "# negative indexing\n",
    "print(\"\\nLast element of tuple\")\n",
    "print(tuple1[-1])\n",
    "  \n",
    "print(\"\\nThird last element of tuple\")\n",
    "print(tuple1[-3])\n",
    "Output:\n",
    "\n",
    "First element of tuple\n",
    "1\n",
    "\n",
    "Last element of tuple\n",
    "5\n",
    "\n",
    "Third last element of tuple\n",
    "3\n",
    "Note – To know more about tuples, refer Python Tuples.\n",
    "\n",
    "### Boolean\n",
    "Data type with one of the two built-in values, True or False. Boolean objects that are equal to True are truthy (true), and those equal to False are falsy (false). But non-Boolean objects can be evaluated in Boolean context as well and determined to be true or false. It is denoted by the class bool.\n",
    "\n",
    "Note – True and False with capital ‘T’ and ‘F’ are valid booleans otherwise python will throw an error.\n",
    "\n",
    "\n",
    "Python program to demonstrate boolean type\n",
    "  \n",
    "print(type(True))\n",
    "print(type(False))\n",
    "  \n",
    "print(type(true))\n",
    "Output:\n",
    "\n",
    "<class 'bool'>\n",
    "<class 'bool'>\n",
    "Traceback (most recent call last):\n",
    "  File \"/home/7e8862763fb66153d70824099d4f5fb7.py\", line 8, in \n",
    "    print(type(true))\n",
    "NameError: name 'true' is not defined\n",
    "\n",
    "#### Set\n",
    "In Python, Set is an unordered collection of data type that is iterable, mutable and has no duplicate elements. The order of elements in a set is undefined though it may consist of various elements.\n",
    "\n",
    "Creating Sets\n",
    "Sets can be created by using the built-in set() function with an iterable object or a sequence by placing the sequence inside curly braces, separated by ‘comma’. Type of elements in a set need not be the same, various mixed-up data type values can also be passed to the set.\n",
    "\n",
    "\n",
    "# Python program to demonstrate  \n",
    "# Creation of Set in Python \n",
    "    \n",
    "# Creating a Set \n",
    "set1 = set() \n",
    "print(\"Initial blank Set: \") \n",
    "print(set1) \n",
    "    \n",
    "# Creating a Set with  \n",
    "# the use of a String \n",
    "set1 = set(\"GeeksForGeeks\") \n",
    "print(\"\\nSet with the use of String: \") \n",
    "print(set1) \n",
    "  \n",
    "# Creating a Set with \n",
    "# the use of a List \n",
    "set1 = set([\"Geeks\", \"For\", \"Geeks\"]) \n",
    "print(\"\\nSet with the use of List: \") \n",
    "print(set1) \n",
    "  \n",
    "# Creating a Set with  \n",
    "# a mixed type of values \n",
    "# (Having numbers and strings) \n",
    "set1 = set([1, 2, 'Geeks', 4, 'For', 6, 'Geeks']) \n",
    "print(\"\\nSet with the use of Mixed Values\") \n",
    "print(set1) \n",
    "Output:\n",
    "\n",
    "Initial blank Set: \n",
    "set()\n",
    "\n",
    "Set with the use of String: \n",
    "{'F', 'o', 'G', 's', 'r', 'k', 'e'}\n",
    "\n",
    "Set with the use of List: \n",
    "{'Geeks', 'For'}\n",
    "\n",
    "Set with the use of Mixed Values\n",
    "{1, 2, 4, 6, 'Geeks', 'For'}\n",
    " \n",
    "\n",
    "Accessing elements of Sets\n",
    "Set items cannot be accessed by referring to an index, since sets are unordered the items has no index. But you can loop through the set items using a for loop, or ask if a specified value is present in a set, by using the in keyword.\n",
    "\n",
    "\n",
    "# Python program to demonstrate \n",
    "# Accessing of elements in a set \n",
    "    \n",
    "# Creating a set \n",
    "set1 = set([\"Geeks\", \"For\", \"Geeks\"]) \n",
    "print(\"\\nInitial set\") \n",
    "print(set1) \n",
    "    \n",
    "# Accessing element using \n",
    "# for loop \n",
    "print(\"\\nElements of set: \") \n",
    "for i in set1: \n",
    "    print(i, end =\" \") \n",
    "    \n",
    "# Checking the element \n",
    "# using in keyword \n",
    "print(\"Geeks\" in set1) \n",
    "Output:\n",
    "\n",
    "Initial set: \n",
    "{'Geeks', 'For'}\n",
    "\n",
    "Elements of set: \n",
    "Geeks For \n",
    "\n",
    "True\n",
    " \n",
    "\n",
    "Note – To know more about sets, refer Python Sets.\n",
    "\n",
    "Dictionary\n",
    "Dictionary in Python is an unordered collection of data values, used to store data values like a map, which unlike other Data Types that hold only single value as an element, Dictionary holds key:value pair. Key-value is provided in the dictionary to make it more optimized. Each key-value pair in a Dictionary is separated by a colon :, whereas each key is separated by a ‘comma’.\n",
    "\n",
    "Creating Dictionary\n",
    "In Python, a Dictionary can be created by placing a sequence of elements within curly {} braces, separated by ‘comma’. Values in a dictionary can be of any datatype and can be duplicated, whereas keys can’t be repeated and must be immutable. Dictionary can also be created by the built-in function dict(). An empty dictionary can be created by just placing it to curly braces{}.\n",
    "\n",
    "Note – Dictionary keys are case sensitive, same name but different cases of Key will be treated distinctly.\n",
    "\n",
    "\n",
    "# Creating an empty Dictionary \n",
    "Dict = {} \n",
    "print(\"Empty Dictionary: \") \n",
    "print(Dict) \n",
    "    \n",
    "# Creating a Dictionary  \n",
    "# with Integer Keys \n",
    "Dict = {1: 'Geeks', 2: 'For', 3: 'Geeks'} \n",
    "print(\"\\nDictionary with the use of Integer Keys: \") \n",
    "print(Dict) \n",
    "    \n",
    "# Creating a Dictionary  \n",
    "# with Mixed keys \n",
    "Dict = {'Name': 'Geeks', 1: [1, 2, 3, 4]} \n",
    "print(\"\\nDictionary with the use of Mixed Keys: \") \n",
    "print(Dict) \n",
    "    \n",
    "# Creating a Dictionary \n",
    "# with dict() method \n",
    "Dict = dict({1: 'Geeks', 2: 'For', 3:'Geeks'}) \n",
    "print(\"\\nDictionary with the use of dict(): \") \n",
    "print(Dict) \n",
    "    \n",
    "# Creating a Dictionary \n",
    "# with each item as a Pair \n",
    "Dict = dict([(1, 'Geeks'), (2, 'For')]) \n",
    "print(\"\\nDictionary with each item as a pair: \") \n",
    "print(Dict) \n",
    "Output:\n",
    "\n",
    "Empty Dictionary: \n",
    "{}\n",
    "\n",
    "Dictionary with the use of Integer Keys: \n",
    "{1: 'Geeks', 2: 'For', 3: 'Geeks'}\n",
    "\n",
    "Dictionary with the use of Mixed Keys: \n",
    "{1: [1, 2, 3, 4], 'Name': 'Geeks'}\n",
    "\n",
    "Dictionary with the use of dict(): \n",
    "{1: 'Geeks', 2: 'For', 3: 'Geeks'}\n",
    "\n",
    "Dictionary with each item as a pair: \n",
    "{1: 'Geeks', 2: 'For'}\n",
    " \n",
    "\n",
    "Accessing elements of Dictionary\n",
    "In order to access the items of a dictionary refer to its key name. Key can be used inside square brackets. There is also a method called get() that will also help in accessing the element from a dictionary.\n",
    "\n",
    "\n",
    "# Python program to demonstrate   \n",
    "# accessing a element from a Dictionary  \n",
    "    \n",
    "# Creating a Dictionary  \n",
    "Dict = {1: 'Geeks', 'name': 'For', 3: 'Geeks'} \n",
    "    \n",
    "# accessing a element using key \n",
    "print(\"Accessing a element using key:\") \n",
    "print(Dict['name']) \n",
    "  \n",
    "# accessing a element using get() \n",
    "# method \n",
    "print(\"Accessing a element using get:\") \n",
    "print(Dict.get(3)) \n",
    "Output:\n",
    "\n",
    "Accessing a element using key:\n",
    "For\n",
    "Accessing a element using get:\n",
    "Geeks"
   ]
  },
  {
   "cell_type": "markdown",
   "id": "236af2be",
   "metadata": {},
   "source": [
    "### Q. What are modules and packages in Python?\n",
    "Python packages and Python modules are two mechanisms that allow for modular programming in Python. \n",
    "Modularizing has several advantages -\n",
    "\n",
    "Modules, in general, are simply Python files with a .py extension and can have a set of functions,\n",
    "classes, or variables defined and implemented. \n",
    "They can be imported and initialized once using the import statement. \n",
    "If partial functionality is needed, import the requisite classes or functions using \n",
    "from foo import bar.\n",
    "\n",
    "Packages allow for hierarchial structuring of the module namespace using dot notation. As, modules help avoid clashes between global variable names, in a similar manner, packages help avoid clashes between module names.\n",
    "Creating a package is easy since it makes use of the system's inherent file structure. So just stuff the modules into a folder and there you have it, the folder name as the package name. Importing a module or its contents from this package requires the package name as prefix to the module name joined by a dot."
   ]
  },
  {
   "cell_type": "markdown",
   "id": "2aabce37",
   "metadata": {},
   "source": [
    "### Q. What are global, protected and private attributes in Python?\n",
    "Global variables are public variables that are defined in the global scope. To use the variable in the global scope inside a function, we use the global keyword.\n",
    "Protected attributes are attributes defined with an underscore prefixed to their identifier eg. _sara. They can still be accessed and modified from outside the class they are defined in but a responsible developer should refrain from doing so.\n",
    "Private attributes are attributes with double underscore prefixed to their identifier eg. __ansh. They cannot be accessed or modified from the outside directly and will result in an AttributeError if such an attempt is made."
   ]
  },
  {
   "cell_type": "markdown",
   "id": "a5fd77ee",
   "metadata": {},
   "source": [
    "### Q. What is the use of self in Python?\n",
    "Self is used to represent the instance of the class. With this keyword, you can access the attributes and methods of the class in python. It binds the attributes with the given arguments. self is used in different places and often thought to be a keyword. But unlike in C++, self is not a keyword in Python"
   ]
  },
  {
   "cell_type": "markdown",
   "id": "912c2d1e",
   "metadata": {},
   "source": [
    "### Q. What is __init__?\n",
    "__init__ is a contructor method in Python and is automatically called to allocate memory when a new object/instance is created. All classes have a __init__ method associated with them. It helps in distinguishing methods and attributes of a class from local variables.\n",
    "\n",
    "//class definition\n",
    "\n",
    "class Student:\n",
    "   def __init__(self, fname, lname, age, section):\n",
    "       self.firstname = fname\n",
    "       self.lastname = lname\n",
    "       self.age = age\n",
    "       self.section = section\n",
    "       \n",
    "//creating a new object\n",
    "stu1 = Student(\"Sara\", \"Ansh\", 22, \"A2\")"
   ]
  },
  {
   "cell_type": "markdown",
   "id": "efa4f60d",
   "metadata": {},
   "source": [
    "### Q. What is break, continue and pass in Python?\n",
    "Break\tThe break statement terminates the loop immediately and the control flows to the statement after the body of the loop.\n",
    "Continue\tThe continue statement terminates the current iteration of the statement, skips the rest of the code in the current iteration and the control flows to the next iteration of the loop.\n",
    "Pass\tAs explained above, the pass keyword in Python is generally used to fill up empty blocks and is similar to an empty statement represented by a semi-colon in languages such as Java, C++, Javascript, etc.\n",
    "pat = [1, 3, 2, 1, 2, 3, 1, 0, 1, 3]\n",
    "for p in pat:\n",
    "   pass\n",
    "   if (p == 0):\n",
    "       current = p\n",
    "       break\n",
    "   elif (p % 2 == 0):\n",
    "       continue\n",
    "   print(p)    # output => 1 3 1 3 1\n",
    "print(current)    # output => 0"
   ]
  },
  {
   "cell_type": "markdown",
   "id": "6978b8eb",
   "metadata": {},
   "source": [
    "### Q. What is slicing in Python?\n",
    "As the name suggests, ‘slicing’ is taking parts of.\n",
    "Syntax for slicing is [start : stop : step]\n",
    "start is the starting index from where to slice a list or tuple\n",
    "stop is the ending index or where to sop.\n",
    "step is the number of steps to jump.\n",
    "Default value for start is 0, stop is number of items, step is 1.\n",
    "Slicing can be done on strings, arrays, lists, and tuples.\n",
    "numbers = [1, 2, 3, 4, 5, 6, 7, 8, 9, 10]\n",
    "print(numbers[1 : : 2])  #output : [2, 4, 6, 8, 10]"
   ]
  },
  {
   "cell_type": "markdown",
   "id": "b9b331ac",
   "metadata": {},
   "source": [
    "### Q. What is the difference between Python Arrays and lists?\n",
    "Arrays in python can only contain elements of same data types i.e., data type of array should be homogeneous. It is a thin wrapper around C language arrays and consumes far less memory than lists.\n",
    "Lists in python can contain elements of different data types i.e., data type of lists can be heterogeneous. It has the disadvantage of consuming large memory.\n",
    "import array\n",
    "a = array.array('i', [1, 2, 3])\n",
    "for i in a:\n",
    "    print(i, end=' ')    #OUTPUT: 1 2 3\n",
    "a = array.array('i', [1, 2, 'string'])    #OUTPUT: TypeError: an integer is required (got type str)\n",
    "a = [1, 2, 'string']\n",
    "for i in a:\n",
    "   print(i, end=' ')    #OUTPUT: 1 2 string"
   ]
  },
  {
   "cell_type": "markdown",
   "id": "d823fc71",
   "metadata": {},
   "source": [
    "### Q. What are decorators in Python?\n"
   ]
  },
  {
   "cell_type": "markdown",
   "id": "36cd7271",
   "metadata": {},
   "source": [
    "### Q. What is lambda in Python? Why is it used?"
   ]
  },
  {
   "cell_type": "markdown",
   "id": "feae1ddd",
   "metadata": {},
   "source": [
    "### Q. How do you copy an object in Python?\n",
    "In Python, the assignment statement (= operator) does not copy objects. Instead, it creates a binding between the existing object and the target variable name. To create copies of an object in Python, we need to use the copy module. Moreover, there are two ways of creating copies for the given object using the copy module -\n",
    "\n",
    "Shallow Copy is a bit-wise copy of an object. The copied object created has an exact copy of the values in the original object. If either of the values is a reference to other objects, just the reference addresses for the same are copied.\n",
    "Deep Copy copies all values recursively from source to target object, i.e. it even duplicates the objects referenced by the source object.\n",
    "\n",
    "from copy import copy, deepcopy\n",
    "list_1 = [1, 2, [3, 5], 4]\n",
    "## shallow copy\n",
    "list_2 = copy(list_1) \n",
    "list_2[3] = 7\n",
    "list_2[2].append(6)\n",
    "list_2    # output => [1, 2, [3, 5, 6], 7]\n",
    "list_1    # output => [1, 2, [3, 5, 6], 4]\n",
    "## deep copy\n",
    "list_3 = deepcopy(list_1)\n",
    "list_3[3] = 8\n",
    "list_3[2].append(7)\n",
    "list_3    # output => [1, 2, [3, 5, 6, 7], 8]\n",
    "list_1    # output => [1, 2, [3, 5, 6], 4]"
   ]
  },
  {
   "cell_type": "markdown",
   "id": "1313b672",
   "metadata": {},
   "source": [
    "### Q. What are generators in Python?"
   ]
  },
  {
   "cell_type": "markdown",
   "id": "fd582f35",
   "metadata": {},
   "source": [
    "### Q. How are arguments passed by value or by reference in python?\n",
    "Pass by value: Copy of the actual object is passed. Changing the value of the copy of the object will not change the value of the original object.\n",
    "Pass by reference: Reference to the actual object is passed. Changing the value of the new object will change the value of the original object.\n",
    "In Python, arguments are passed by reference, i.e., reference to the actual object is passed.\n",
    "\n",
    "def appendNumber(arr):\n",
    "   arr.append(4)\n",
    "arr = [1, 2, 3]\n",
    "print(arr)  #Output: => [1, 2, 3]\n",
    "appendNumber(arr)\n",
    "print(arr)  #Output: => [1, 2, 3, 4]"
   ]
  },
  {
   "cell_type": "markdown",
   "id": "474b08d1",
   "metadata": {},
   "source": [
    "### Q. What are iterators in Python?\n"
   ]
  },
  {
   "cell_type": "markdown",
   "id": "434f18c5",
   "metadata": {},
   "source": [
    "### Q. Explain split() and join() functions in Python?\n",
    "You can use split() function to split a string based on a delimiter to a list of strings.\n",
    "You can use join() function to join a list of strings based on a delimiter to give a single string.\n",
    "string = \"This is a string.\"\n",
    "string_list = string.split(' ') #delimiter is ‘space’ character or ‘ ‘\n",
    "print(string_list) #output: ['This', 'is', 'a', 'string.']\n",
    "print(' '.join(string_list)) #output: This is a string."
   ]
  },
  {
   "cell_type": "markdown",
   "id": "d0ca10fb",
   "metadata": {},
   "source": [
    "### Q. What does *args and **kwargs mean?\n",
    "*args\n",
    "\n",
    "*args is a special syntax used in the function definition to pass variable-length arguments.\n",
    "“*” means variable length and “args” is the name used by convention. You can use any other.\n",
    "def multiply(a, b, *argv):\n",
    "   mul = a * b\n",
    "   for num in argv:\n",
    "       mul *= num\n",
    "   return mul\n",
    "print(multiply(1, 2, 3, 4, 5)) #output: 120\n",
    "**kwargs\n",
    "\n",
    "**kwargs is a special syntax used in the function definition to pass variable-length keyworded arguments.\n",
    "Here, also, “kwargs” is used just by convention. You can use any other name.\n",
    "Keyworded argument means a variable that has a name when passed to a function.\n",
    "It is actually a dictionary of the variable names and its value.\n",
    "def tellArguments(**kwargs):\n",
    "   for key, value in kwargs.items():\n",
    "       print(key + \": \" + value)\n",
    "tellArguments(arg1 = \"argument 1\", arg2 = \"argument 2\", arg3 = \"argument 3\")\n",
    "#output:\n",
    "# arg1: argument 1\n",
    "# arg2: argument 2\n",
    "# arg3: argument 3"
   ]
  },
  {
   "cell_type": "markdown",
   "id": "4e1223b1",
   "metadata": {},
   "source": [
    "### Q. How does inheritance work in python? "
   ]
  },
  {
   "cell_type": "markdown",
   "id": "a23ecb05",
   "metadata": {},
   "source": [
    "### Q. How do you access parent members in the child class?\n",
    "Following are the ways using which you can access parent class members within a child class:\n",
    "\n",
    "By using Parent class name: You can use the name of the parent class to access the attributes as shown in the example below:\n",
    "class Parent(object):  \n",
    "   # Constructor\n",
    "   def __init__(self, name):\n",
    "       self.name = name    \n",
    " \n",
    "class Child(Parent): \n",
    "   # Constructor\n",
    "   def __init__(self, name, age):\n",
    "       Parent.name = name\n",
    "       self.age = age\n",
    " \n",
    "   def display(self):\n",
    "       print(Parent.name, self.age)\n",
    " \n",
    "# Driver Code\n",
    "obj = Child(\"Interviewbit\", 6)\n",
    "obj.display()\n",
    "By using super(): The parent class members can be accessed in child class using the super keyword.\n",
    "class Parent(object):\n",
    "   # Constructor\n",
    "   def __init__(self, name):\n",
    "       self.name = name    \n",
    " \n",
    "class Child(Parent):\n",
    "   # Constructor\n",
    "   def __init__(self, name, age):         \n",
    "       ''' \n",
    "       In Python 3.x, we can also use super().__init__(name)\n",
    "       ''' \n",
    "       super(Child, self).__init__(name)\n",
    "       self.age = age\n",
    " \n",
    "   def display(self):\n",
    "      # Note that Parent.name cant be used \n",
    "      # here since super() is used in the constructor\n",
    "      print(self.name, self.age)\n",
    "  \n",
    "# Driver Code\n",
    "obj = Child(\"Interviewbit\", 6)\n",
    "obj.display()"
   ]
  },
  {
   "cell_type": "markdown",
   "id": "d6e32c59",
   "metadata": {},
   "source": [
    "### Q.  What is init method in python?\n",
    "The init method works similarly to the constructors in Java. The method is run as soon as an object is instantiated. It is useful for initializing any attributes or default behaviour of the object at the time of instantiation."
   ]
  },
  {
   "cell_type": "markdown",
   "id": "ddffcd2c",
   "metadata": {},
   "source": [
    "### Q. How will you check if a class is a child of another class?\n",
    "This is done by using a method called issubclass() provided by python. The method tells us if any class is a child of another class by returning true or false accordingly.\n",
    "For example:\n",
    "\n",
    "class Parent(object):\n",
    "   pass   \n",
    " \n",
    "class Child(Parent):\n",
    "   pass   \n",
    " \n",
    "# Driver Code\n",
    "print(issubclass(Child, Parent))    #True\n",
    "print(issubclass(Parent, Child))    #False\n",
    "We can check if an object is an instance of a class by making use of isinstance() method:\n",
    "obj1 = Child()\n",
    "obj2 = Parent()\n",
    "print(isinstance(obj2, Child))    #False \n",
    "print(isinstance(obj2, Parent))   #True "
   ]
  },
  {
   "cell_type": "markdown",
   "id": "7062959b",
   "metadata": {},
   "source": [
    "### Q. .What is type conversion in Python?\n",
    "Ans: Type conversion refers to the conversion of one data type into another.\n",
    "\n",
    "int() – converts any data type into integer type\n",
    "\n",
    "float() – converts any data type into float type\n",
    "\n",
    "ord() – converts characters into integer\n",
    "\n",
    "hex() – converts integers to hexadecimal\n",
    "\n",
    "oct() – converts integer to octal\n",
    "\n",
    "tuple() – This function is used to convert to a tuple.\n",
    "\n",
    "set() – This function returns the type after converting to set.\n",
    "\n",
    "list() – This function is used to convert any data type to a list type.\n",
    "\n",
    "dict() – This function is used to convert a tuple of order (key, value) into a dictionary.\n",
    "\n",
    "str() – Used to convert integer into a string.\n",
    "\n",
    "complex(real,imag) – This function converts real numbers to complex(real,imag) number."
   ]
  },
  {
   "cell_type": "markdown",
   "id": "a64006ec",
   "metadata": {},
   "source": [
    "### Q. What is Polymorphism in Python?"
   ]
  },
  {
   "cell_type": "markdown",
   "id": "d46e46e0",
   "metadata": {},
   "source": [
    "### Q. Define encapsulation in Python?"
   ]
  },
  {
   "cell_type": "markdown",
   "id": "8c718ddd",
   "metadata": {},
   "source": [
    "### Q. data abstraction in Python?"
   ]
  },
  {
   "cell_type": "markdown",
   "id": "5dd63b63",
   "metadata": {},
   "source": [
    "### Q. "
   ]
  },
  {
   "cell_type": "code",
   "execution_count": null,
   "id": "43602902",
   "metadata": {},
   "outputs": [],
   "source": []
  },
  {
   "cell_type": "code",
   "execution_count": null,
   "id": "9964ea05",
   "metadata": {},
   "outputs": [],
   "source": []
  },
  {
   "cell_type": "code",
   "execution_count": null,
   "id": "4dc5f207",
   "metadata": {},
   "outputs": [],
   "source": []
  },
  {
   "cell_type": "code",
   "execution_count": null,
   "id": "471f64e4",
   "metadata": {},
   "outputs": [],
   "source": []
  },
  {
   "cell_type": "code",
   "execution_count": null,
   "id": "604f1431",
   "metadata": {},
   "outputs": [],
   "source": []
  },
  {
   "cell_type": "markdown",
   "id": "b885ad8a",
   "metadata": {},
   "source": [
    "# DJANGO"
   ]
  },
  {
   "cell_type": "markdown",
   "id": "f284557f",
   "metadata": {},
   "source": [
    "TRADEINDIA\n",
    " - what is map function\n",
    " - what is inclusion in django\n",
    " - what is lambda function\n",
    " - how to make custom tag template filter in django\n",
    " - how to define a CONSTANT in python\n",
    " - snake casing / camel casing\n",
    " - GIT - rebase\n",
    " - how to deploy (w/o heroku)\n",
    " - logic: given a string\"\" find the largest palindrome in it\n",
    " - logic: given a string\"\" and a sizing_window = 4 interchange the even index in sizing window.\n",
    " - connect python with postgress db and what 3rd party is installed\n",
    " - what is cursor\n",
    " - multiple database connection in django\n",
    " - middleware ? and we make our own middleware\n",
    " - what number(types) can be converted to complex(A+jB)"
   ]
  },
  {
   "cell_type": "code",
   "execution_count": null,
   "id": "642ca7ba",
   "metadata": {},
   "outputs": [],
   "source": []
  }
 ],
 "metadata": {
  "kernelspec": {
   "display_name": "Python 3 (ipykernel)",
   "language": "python",
   "name": "python3"
  },
  "language_info": {
   "codemirror_mode": {
    "name": "ipython",
    "version": 3
   },
   "file_extension": ".py",
   "mimetype": "text/x-python",
   "name": "python",
   "nbconvert_exporter": "python",
   "pygments_lexer": "ipython3",
   "version": "3.9.12"
  }
 },
 "nbformat": 4,
 "nbformat_minor": 5
}
